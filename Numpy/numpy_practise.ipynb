{
 "cells": [
  {
   "cell_type": "markdown",
   "id": "04f5ba6b",
   "metadata": {},
   "source": [
    "# Numpy Practise"
   ]
  },
  {
   "cell_type": "code",
   "execution_count": 13,
   "id": "63457526",
   "metadata": {},
   "outputs": [],
   "source": [
    "import numpy as np"
   ]
  },
  {
   "cell_type": "code",
   "execution_count": 14,
   "id": "b0b06155",
   "metadata": {},
   "outputs": [],
   "source": [
    "a = np.array([1,2,3]) \n",
    "b = np.array([4,5,6],dtype='int8')"
   ]
  },
  {
   "cell_type": "code",
   "execution_count": 15,
   "id": "4ca85cf6",
   "metadata": {},
   "outputs": [
    {
     "name": "stdout",
     "output_type": "stream",
     "text": [
      "[1 2 3]\n",
      "[4 5 6]\n"
     ]
    }
   ],
   "source": [
    "# Print elements\n",
    "print(a)\n",
    "print(b)"
   ]
  },
  {
   "cell_type": "code",
   "execution_count": 16,
   "id": "3debae16",
   "metadata": {},
   "outputs": [
    {
     "name": "stdout",
     "output_type": "stream",
     "text": [
      "4\n",
      "1\n"
     ]
    }
   ],
   "source": [
    "# Print size of each elements\n",
    "print(a.itemsize)\n",
    "print(b.itemsize)"
   ]
  },
  {
   "cell_type": "code",
   "execution_count": 17,
   "id": "38dfbefc",
   "metadata": {},
   "outputs": [
    {
     "name": "stdout",
     "output_type": "stream",
     "text": [
      "3\n",
      "3\n"
     ]
    }
   ],
   "source": [
    "# Print number of elements\n",
    "print(a.size)\n",
    "print(b.size)"
   ]
  },
  {
   "cell_type": "code",
   "execution_count": 18,
   "id": "c205b38f",
   "metadata": {},
   "outputs": [
    {
     "name": "stdout",
     "output_type": "stream",
     "text": [
      "12\n",
      "3\n"
     ]
    }
   ],
   "source": [
    "# Print total size\n",
    "print(a.nbytes)\n",
    "print(b.nbytes)"
   ]
  },
  {
   "cell_type": "code",
   "execution_count": 19,
   "id": "03b12ee2",
   "metadata": {},
   "outputs": [],
   "source": [
    "# 1D array\n",
    "c = np.array([1,2,3])\n",
    "# 2D array\n",
    "d = np.array([[4,5,6],[7,8,9]])"
   ]
  },
  {
   "cell_type": "code",
   "execution_count": 20,
   "id": "193f3a39",
   "metadata": {},
   "outputs": [
    {
     "name": "stdout",
     "output_type": "stream",
     "text": [
      "[1 2 3]\n",
      "[[4 5 6]\n",
      " [7 8 9]]\n"
     ]
    }
   ],
   "source": [
    "print(c)\n",
    "print(d)"
   ]
  },
  {
   "cell_type": "code",
   "execution_count": 21,
   "id": "96afdde1",
   "metadata": {},
   "outputs": [
    {
     "name": "stdout",
     "output_type": "stream",
     "text": [
      "1\n",
      "2\n"
     ]
    }
   ],
   "source": [
    "# Get dimension\n",
    "print (c.ndim)\n",
    "print (d.ndim)"
   ]
  },
  {
   "cell_type": "code",
   "execution_count": 22,
   "id": "7fcca20a",
   "metadata": {},
   "outputs": [
    {
     "name": "stdout",
     "output_type": "stream",
     "text": [
      "(3,)\n",
      "(2, 3)\n"
     ]
    }
   ],
   "source": [
    "# Get shape\n",
    "print(c.shape)\n",
    "print(d.shape)"
   ]
  },
  {
   "cell_type": "markdown",
   "id": "4ead4ef3",
   "metadata": {},
   "source": [
    "### Accessing/Changing specific elements, rows and columns"
   ]
  },
  {
   "cell_type": "code",
   "execution_count": 48,
   "id": "7f28c4b2",
   "metadata": {},
   "outputs": [],
   "source": [
    "a = np.array([[1,2,3,4],[4,5,6,7]])"
   ]
  },
  {
   "cell_type": "code",
   "execution_count": 49,
   "id": "7dd36290",
   "metadata": {},
   "outputs": [
    {
     "name": "stdout",
     "output_type": "stream",
     "text": [
      "[[1 2 3 4]\n",
      " [4 5 6 7]]\n"
     ]
    }
   ],
   "source": [
    "print(a)"
   ]
  },
  {
   "cell_type": "code",
   "execution_count": 51,
   "id": "a526f4c2",
   "metadata": {},
   "outputs": [
    {
     "name": "stdout",
     "output_type": "stream",
     "text": [
      "6\n",
      "6\n",
      "6\n"
     ]
    }
   ],
   "source": [
    "# Accessing specific element\n",
    "print(a[1][2])\n",
    "print(a[1,2])\n",
    "# Elements can also be accessed using the negative index\n",
    "print(a[1,-2])"
   ]
  },
  {
   "cell_type": "code",
   "execution_count": 52,
   "id": "96f362dc",
   "metadata": {},
   "outputs": [
    {
     "name": "stdout",
     "output_type": "stream",
     "text": [
      "[[ 1  2  3  4]\n",
      " [ 4  5 99  7]]\n"
     ]
    }
   ],
   "source": [
    "# Assigning a value to a specific element\n",
    "a[1][2] = 99\n",
    "print(a)"
   ]
  },
  {
   "cell_type": "code",
   "execution_count": 53,
   "id": "08c60135",
   "metadata": {},
   "outputs": [
    {
     "name": "stdout",
     "output_type": "stream",
     "text": [
      "[1 2 3 4]\n"
     ]
    }
   ],
   "source": [
    "# Accessing a specific row\n",
    "print (a[0,:])"
   ]
  },
  {
   "cell_type": "code",
   "execution_count": 54,
   "id": "057b29d1",
   "metadata": {},
   "outputs": [
    {
     "name": "stdout",
     "output_type": "stream",
     "text": [
      "[ 3 99]\n"
     ]
    }
   ],
   "source": [
    "# Accessing a specific cloumn\n",
    "print (a[:,2])"
   ]
  },
  {
   "cell_type": "code",
   "execution_count": 55,
   "id": "5c6e6b20",
   "metadata": {},
   "outputs": [
    {
     "name": "stdout",
     "output_type": "stream",
     "text": [
      "[1 3]\n",
      "[1 3]\n"
     ]
    }
   ],
   "source": [
    "# Printing elements in steps [rowindex,startindex:endindex:stepsize]\n",
    "# Elements can also be accessed with negative index\n",
    "print(a[0,0:3:2])\n",
    "print(a[0,0:-1:2])"
   ]
  },
  {
   "cell_type": "markdown",
   "id": "897a5254",
   "metadata": {},
   "source": [
    "#### 3D Arrays"
   ]
  },
  {
   "cell_type": "code",
   "execution_count": 57,
   "id": "ec99183b",
   "metadata": {},
   "outputs": [],
   "source": [
    " e = np.array([[[1,2],[3,4]],[[4,5],[5,6]]])"
   ]
  },
  {
   "cell_type": "code",
   "execution_count": 58,
   "id": "33d5c3eb",
   "metadata": {},
   "outputs": [
    {
     "name": "stdout",
     "output_type": "stream",
     "text": [
      "[[[1 2]\n",
      "  [3 4]]\n",
      "\n",
      " [[4 5]\n",
      "  [5 6]]]\n"
     ]
    }
   ],
   "source": [
    "print(e)"
   ]
  },
  {
   "cell_type": "code",
   "execution_count": 59,
   "id": "d82032ba",
   "metadata": {},
   "outputs": [
    {
     "name": "stdout",
     "output_type": "stream",
     "text": [
      "6\n"
     ]
    }
   ],
   "source": [
    "# Accessing a specific elemnt in the 3D array\n",
    "# See this as two 2*2 arrays\n",
    "# First paramter as selecting one of two arrays\n",
    "# Second paramter as selecting a particular row of selected array\n",
    "# Thirs paramter as selecting a particualr element in particular row\n",
    "print(e[1,1,1])"
   ]
  },
  {
   "cell_type": "code",
   "execution_count": 60,
   "id": "af519e4e",
   "metadata": {},
   "outputs": [
    {
     "name": "stdout",
     "output_type": "stream",
     "text": [
      "[[1 2]\n",
      " [3 4]]\n"
     ]
    }
   ],
   "source": [
    "print(e[0,:,:])"
   ]
  },
  {
   "cell_type": "code",
   "execution_count": 61,
   "id": "4bac2fed",
   "metadata": {},
   "outputs": [
    {
     "name": "stdout",
     "output_type": "stream",
     "text": [
      "[[1 2]\n",
      " [4 5]]\n"
     ]
    }
   ],
   "source": [
    "print(e[:,0,:])"
   ]
  },
  {
   "cell_type": "code",
   "execution_count": 62,
   "id": "9941c88d",
   "metadata": {},
   "outputs": [
    {
     "name": "stdout",
     "output_type": "stream",
     "text": [
      "[[2 4]\n",
      " [5 6]]\n"
     ]
    }
   ],
   "source": [
    "print(e[:,:,1])"
   ]
  },
  {
   "cell_type": "code",
   "execution_count": 66,
   "id": "cb3d6892",
   "metadata": {},
   "outputs": [
    {
     "name": "stdout",
     "output_type": "stream",
     "text": [
      "(2, 2, 2)\n"
     ]
    }
   ],
   "source": [
    "print(e.shape)\n",
    "# Interpret the output of shape as two matrices of size 2*2"
   ]
  },
  {
   "cell_type": "markdown",
   "id": "77e42877",
   "metadata": {},
   "source": [
    "## Initializing different types of array "
   ]
  },
  {
   "cell_type": "code",
   "execution_count": 69,
   "id": "bb0a2041",
   "metadata": {},
   "outputs": [
    {
     "data": {
      "text/plain": [
       "array([[0., 0., 0.],\n",
       "       [0., 0., 0.]])"
      ]
     },
     "execution_count": 69,
     "metadata": {},
     "output_type": "execute_result"
    }
   ],
   "source": [
    "# All zeros\n",
    "np.zeros((2,3))"
   ]
  },
  {
   "cell_type": "code",
   "execution_count": 71,
   "id": "de1a56b0",
   "metadata": {},
   "outputs": [
    {
     "data": {
      "text/plain": [
       "array([[1, 1],\n",
       "       [1, 1]], dtype=int16)"
      ]
     },
     "execution_count": 71,
     "metadata": {},
     "output_type": "execute_result"
    }
   ],
   "source": [
    "# All ones (by default the data type is float32)\n",
    "np.ones((2,2),dtype='int16')"
   ]
  },
  {
   "cell_type": "code",
   "execution_count": 72,
   "id": "63db1777",
   "metadata": {},
   "outputs": [
    {
     "data": {
      "text/plain": [
       "array([[23, 23],\n",
       "       [23, 23]])"
      ]
     },
     "execution_count": 72,
     "metadata": {},
     "output_type": "execute_result"
    }
   ],
   "source": [
    "# Fill any number\n",
    "np.full((2,2),23)"
   ]
  },
  {
   "cell_type": "code",
   "execution_count": 76,
   "id": "9ed33dce",
   "metadata": {},
   "outputs": [
    {
     "name": "stdout",
     "output_type": "stream",
     "text": [
      "[[1 2 3]\n",
      " [4 5 6]]\n"
     ]
    }
   ],
   "source": [
    "a = np.array([[1,2,3],[4,5,6]])\n",
    "print(a)"
   ]
  },
  {
   "cell_type": "code",
   "execution_count": 80,
   "id": "4f7c43a8",
   "metadata": {},
   "outputs": [
    {
     "name": "stdout",
     "output_type": "stream",
     "text": [
      "[[4 4 4]\n",
      " [4 4 4]]\n",
      "[[1 2 3]\n",
      " [4 5 6]]\n"
     ]
    }
   ],
   "source": [
    "# Fill the array with given data whose shape is similar to existing array\n",
    "c = np.full_like(a,4)\n",
    "print(c)\n",
    "print(a)"
   ]
  },
  {
   "cell_type": "code",
   "execution_count": 81,
   "id": "484d099f",
   "metadata": {},
   "outputs": [
    {
     "data": {
      "text/plain": [
       "array([[0.38000801, 0.94651724, 0.96817516],\n",
       "       [0.29990631, 0.57846698, 0.01188002]])"
      ]
     },
     "execution_count": 81,
     "metadata": {},
     "output_type": "execute_result"
    }
   ],
   "source": [
    "# Ramdom decimal numbers\n",
    "np.random.rand(2,3)"
   ]
  },
  {
   "cell_type": "code",
   "execution_count": 83,
   "id": "1a850b62",
   "metadata": {},
   "outputs": [
    {
     "data": {
      "text/plain": [
       "array([[0, 0, 0],\n",
       "       [1, 0, 2]])"
      ]
     },
     "execution_count": 83,
     "metadata": {},
     "output_type": "execute_result"
    }
   ],
   "source": [
    "# Ramdom integer numbers\n",
    "np.random.randint(0,3,(2,3))"
   ]
  },
  {
   "cell_type": "code",
   "execution_count": 84,
   "id": "76520258",
   "metadata": {},
   "outputs": [
    {
     "data": {
      "text/plain": [
       "array([[1., 0., 0.],\n",
       "       [0., 1., 0.],\n",
       "       [0., 0., 1.]])"
      ]
     },
     "execution_count": 84,
     "metadata": {},
     "output_type": "execute_result"
    }
   ],
   "source": [
    "# The identity matrix\n",
    "np.identity(3)"
   ]
  },
  {
   "cell_type": "code",
   "execution_count": 94,
   "id": "d7f27614",
   "metadata": {},
   "outputs": [
    {
     "name": "stdout",
     "output_type": "stream",
     "text": [
      "(1, 3)\n",
      "[[5 5 5]\n",
      " [5 5 5]]\n"
     ]
    }
   ],
   "source": [
    "# Repeating an array\n",
    "arr = np.array([[5,5,5]])\n",
    "print(arr.shape)\n",
    "rep = np.repeat(arr,2,axis=0)\n",
    "print (rep)"
   ]
  },
  {
   "cell_type": "code",
   "execution_count": 96,
   "id": "fcae52e1",
   "metadata": {},
   "outputs": [
    {
     "name": "stdout",
     "output_type": "stream",
     "text": [
      "[99  6  7]\n",
      "[99  6  7]\n"
     ]
    }
   ],
   "source": [
    "# Array copying is shallow\n",
    "arr = np.array([5,6,7])\n",
    "arr2 = arr\n",
    "arr2[0] = 99\n",
    "print(arr)\n",
    "print(arr2)"
   ]
  },
  {
   "cell_type": "code",
   "execution_count": 97,
   "id": "cc8cc648",
   "metadata": {},
   "outputs": [
    {
     "name": "stdout",
     "output_type": "stream",
     "text": [
      "[5 6 7]\n",
      "[99  6  7]\n"
     ]
    }
   ],
   "source": [
    "# Fix for array copying\n",
    "arr = np.array([5,6,7])\n",
    "arr2 = arr.copy()\n",
    "arr2[0] = 99\n",
    "print(arr)\n",
    "print(arr2)"
   ]
  },
  {
   "cell_type": "code",
   "execution_count": null,
   "id": "2be3f5f1",
   "metadata": {},
   "outputs": [],
   "source": []
  }
 ],
 "metadata": {
  "kernelspec": {
   "display_name": "Python 3 (ipykernel)",
   "language": "python",
   "name": "python3"
  },
  "language_info": {
   "codemirror_mode": {
    "name": "ipython",
    "version": 3
   },
   "file_extension": ".py",
   "mimetype": "text/x-python",
   "name": "python",
   "nbconvert_exporter": "python",
   "pygments_lexer": "ipython3",
   "version": "3.9.12"
  }
 },
 "nbformat": 4,
 "nbformat_minor": 5
}
