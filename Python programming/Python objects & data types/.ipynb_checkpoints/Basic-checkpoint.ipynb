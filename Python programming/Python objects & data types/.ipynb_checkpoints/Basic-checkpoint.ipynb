{
 "cells": [
  {
   "cell_type": "markdown",
   "id": "cddbb890",
   "metadata": {},
   "source": [
    "# List "
   ]
  },
  {
   "cell_type": "markdown",
   "id": "0f9e1f46",
   "metadata": {},
   "source": [
    "* Lists are used to hold objects of either same type or of different type\n",
    "* Lists are mutable\n",
    "* Lists are constructed with [] brackets and the elements in the list are seperated using ','"
   ]
  },
  {
   "cell_type": "code",
   "execution_count": 2,
   "id": "dcc7f6c9",
   "metadata": {},
   "outputs": [
    {
     "data": {
      "text/plain": [
       "[1, 2, 3]"
      ]
     },
     "execution_count": 2,
     "metadata": {},
     "output_type": "execute_result"
    }
   ],
   "source": [
    "# Creating list of integers\n",
    "lst = [1,2,3]\n",
    "lst"
   ]
  },
  {
   "cell_type": "code",
   "execution_count": 20,
   "id": "7a09d39a",
   "metadata": {},
   "outputs": [
    {
     "data": {
      "text/plain": [
       "[1, 'Hello', 2.3]"
      ]
     },
     "execution_count": 20,
     "metadata": {},
     "output_type": "execute_result"
    }
   ],
   "source": [
    "# Creating list having elements of different type\n",
    "lst = [1,\"Hello\",2.3]\n",
    "lst"
   ]
  },
  {
   "cell_type": "code",
   "execution_count": 15,
   "id": "26e8d4dd",
   "metadata": {},
   "outputs": [
    {
     "name": "stdout",
     "output_type": "stream",
     "text": [
      "Second element in the list: Hello\n",
      "Reversed string in the list: olleH\n"
     ]
    }
   ],
   "source": [
    "# Indexing\n",
    "print (\"Second element in the list: {}\".format(lst[1]))\n",
    "# Reversing the string present in the list\n",
    "print (\"Reversed string in the list: {}\".format(lst[1][::-1]))"
   ]
  },
  {
   "cell_type": "code",
   "execution_count": 16,
   "id": "52d41d57",
   "metadata": {},
   "outputs": [
    {
     "data": {
      "text/plain": [
       "['Hello', 2.3]"
      ]
     },
     "execution_count": 16,
     "metadata": {},
     "output_type": "execute_result"
    }
   ],
   "source": [
    "# Slicing\n",
    "# Accessing 1 to 3 (Where index 3 is excluded)\n",
    "lst[1:3]"
   ]
  },
  {
   "cell_type": "code",
   "execution_count": 14,
   "id": "9879789e",
   "metadata": {},
   "outputs": [
    {
     "name": "stdout",
     "output_type": "stream",
     "text": [
      "Size of list + garbage collector using sizeof() is 120\n",
      "Size of list using __sizeof__ is 104\n"
     ]
    }
   ],
   "source": [
    "import sys\n",
    "# Checkign the size of the list.\n",
    "print (\"Size of list + garbage collector using sizeof() is {}\".format(sys.getsizeof(lst)))\n",
    "print (\"Size of list using __sizeof__ is {}\".format(lst.__sizeof__()))"
   ]
  },
  {
   "cell_type": "code",
   "execution_count": 17,
   "id": "1572da6d",
   "metadata": {},
   "outputs": [
    {
     "data": {
      "text/plain": [
       "[1, 'Hello', 2.3, 'World']"
      ]
     },
     "execution_count": 17,
     "metadata": {},
     "output_type": "execute_result"
    }
   ],
   "source": [
    "# Concatenating two list\n",
    "lst + [\"World\"]"
   ]
  },
  {
   "cell_type": "code",
   "execution_count": 21,
   "id": "b55110e1",
   "metadata": {},
   "outputs": [
    {
     "data": {
      "text/plain": [
       "[1, 'Hello', 2.3, 'APPEND THIS']"
      ]
     },
     "execution_count": 21,
     "metadata": {},
     "output_type": "execute_result"
    }
   ],
   "source": [
    "# Appending new element to the end\n",
    "lst.append(\"APPEND THIS\")\n",
    "lst"
   ]
  },
  {
   "cell_type": "code",
   "execution_count": 22,
   "id": "7a6a9da7",
   "metadata": {},
   "outputs": [
    {
     "data": {
      "text/plain": [
       "[1, 'Hello', 2.3, 'APPEND THIS', 1, 'Hello', 2.3, 'APPEND THIS']"
      ]
     },
     "execution_count": 22,
     "metadata": {},
     "output_type": "execute_result"
    }
   ],
   "source": [
    "# Make the list double. Howver, this is just temporary\n",
    "lst*2"
   ]
  },
  {
   "cell_type": "code",
   "execution_count": 23,
   "id": "7f1dfbcb",
   "metadata": {},
   "outputs": [
    {
     "data": {
      "text/plain": [
       "[1, 'Hello', 2.3, 'APPEND THIS']"
      ]
     },
     "execution_count": 23,
     "metadata": {},
     "output_type": "execute_result"
    }
   ],
   "source": [
    "lst"
   ]
  },
  {
   "cell_type": "code",
   "execution_count": 24,
   "id": "0ab08aae",
   "metadata": {},
   "outputs": [
    {
     "data": {
      "text/plain": [
       "'APPEND THIS'"
      ]
     },
     "execution_count": 24,
     "metadata": {},
     "output_type": "execute_result"
    }
   ],
   "source": [
    "# Poping last element from the list\n",
    "lst.pop()"
   ]
  },
  {
   "cell_type": "code",
   "execution_count": 25,
   "id": "dd4b05c4",
   "metadata": {},
   "outputs": [
    {
     "data": {
      "text/plain": [
       "[1, 'Hello', 2.3]"
      ]
     },
     "execution_count": 25,
     "metadata": {},
     "output_type": "execute_result"
    }
   ],
   "source": [
    "lst"
   ]
  },
  {
   "cell_type": "code",
   "execution_count": 26,
   "id": "88295672",
   "metadata": {},
   "outputs": [
    {
     "data": {
      "text/plain": [
       "1"
      ]
     },
     "execution_count": 26,
     "metadata": {},
     "output_type": "execute_result"
    }
   ],
   "source": [
    "# Poping a element, other than last one, from the list\n",
    "lst.pop(0)"
   ]
  },
  {
   "cell_type": "code",
   "execution_count": 27,
   "id": "ebcc4103",
   "metadata": {},
   "outputs": [
    {
     "data": {
      "text/plain": [
       "['Hello', 2.3]"
      ]
     },
     "execution_count": 27,
     "metadata": {},
     "output_type": "execute_result"
    }
   ],
   "source": [
    "lst"
   ]
  },
  {
   "cell_type": "code",
   "execution_count": 28,
   "id": "ad220b98",
   "metadata": {},
   "outputs": [],
   "source": [
    "new_lst = ['b','m','a','z','o','p']"
   ]
  },
  {
   "cell_type": "code",
   "execution_count": 33,
   "id": "62c51c19",
   "metadata": {},
   "outputs": [
    {
     "data": {
      "text/plain": [
       "['a', 'b', 'm', 'o', 'p', 'z']"
      ]
     },
     "execution_count": 33,
     "metadata": {},
     "output_type": "execute_result"
    }
   ],
   "source": [
    "# Sorting the list; this is inplace.\n",
    "new_lst.sort()\n",
    "new_lst"
   ]
  },
  {
   "cell_type": "code",
   "execution_count": 34,
   "id": "0d9745f5",
   "metadata": {},
   "outputs": [
    {
     "data": {
      "text/plain": [
       "['z', 'p', 'o', 'm', 'b', 'a']"
      ]
     },
     "execution_count": 34,
     "metadata": {},
     "output_type": "execute_result"
    }
   ],
   "source": [
    "# Reversing the list; this is also inplace.\n",
    "new_lst.reverse()\n",
    "new_lst"
   ]
  },
  {
   "cell_type": "code",
   "execution_count": 35,
   "id": "e2a4e7ea",
   "metadata": {},
   "outputs": [
    {
     "data": {
      "text/plain": [
       "['z', 'p', 'o', 'm', 'b', 'a']"
      ]
     },
     "execution_count": 35,
     "metadata": {},
     "output_type": "execute_result"
    }
   ],
   "source": [
    "new_lst"
   ]
  },
  {
   "cell_type": "code",
   "execution_count": 37,
   "id": "536ab97c",
   "metadata": {},
   "outputs": [
    {
     "data": {
      "text/plain": [
       "[['A', 'B', 'C'], [1, 2, 3], ['Apple', 'Ball', 'Cat']]"
      ]
     },
     "execution_count": 37,
     "metadata": {},
     "output_type": "execute_result"
    }
   ],
   "source": [
    "# Nesting the list\n",
    "nested_lst = [[\"A\",\"B\",\"C\"],[1,2,3],[\"Apple\",\"Ball\",\"Cat\"]]\n",
    "nested_lst"
   ]
  },
  {
   "cell_type": "code",
   "execution_count": 38,
   "id": "c03ac13d",
   "metadata": {},
   "outputs": [
    {
     "data": {
      "text/plain": [
       "'Apple'"
      ]
     },
     "execution_count": 38,
     "metadata": {},
     "output_type": "execute_result"
    }
   ],
   "source": [
    "# Accessing Apple from the nested list\n",
    "nested_lst[2][0]"
   ]
  },
  {
   "cell_type": "markdown",
   "id": "5037e830",
   "metadata": {},
   "source": [
    "# Dictionaries"
   ]
  },
  {
   "cell_type": "markdown",
   "id": "7c365532",
   "metadata": {},
   "source": [
    "* Dictionaries are key:vale pairs where the key has to be of any type that is immutable- int, string, float, tuple, etc-, but the value can be of any type.\n",
    "* Dictionaries are enclosed within {}\n",
    "* Dictionaries are unorderd i.e they cannot be indexed using their positions nor can they be accessed using slicing similar to \n",
    "  string or list\n",
    "* Dictionaries values are accessed using the keys only."
   ]
  },
  {
   "cell_type": "code",
   "execution_count": 46,
   "id": "a96a529c",
   "metadata": {},
   "outputs": [
    {
     "name": "stdout",
     "output_type": "stream",
     "text": [
      "{'A': [1, 2, 3], 'B': [4, 5, 6], 'C': [7, 8, 9]}\n"
     ]
    }
   ],
   "source": [
    "# Declaring a dictionary\n",
    "d = {\"A\":[1,2,3],\n",
    "     \"B\":[4,5,6],\n",
    "     \"C\":[7,8,9]\n",
    "    }\n",
    "print (d)"
   ]
  },
  {
   "cell_type": "code",
   "execution_count": 47,
   "id": "9f3975df",
   "metadata": {},
   "outputs": [
    {
     "data": {
      "text/plain": [
       "[4, 5, 6]"
      ]
     },
     "execution_count": 47,
     "metadata": {},
     "output_type": "execute_result"
    }
   ],
   "source": [
    "# Accessing a value from the dictionary\n",
    "d[\"B\"]"
   ]
  },
  {
   "cell_type": "code",
   "execution_count": 49,
   "id": "73feb53a",
   "metadata": {},
   "outputs": [
    {
     "data": {
      "text/plain": [
       "8"
      ]
     },
     "execution_count": 49,
     "metadata": {},
     "output_type": "execute_result"
    }
   ],
   "source": [
    "# Accessing 8 from the dictionary\n",
    "d[\"C\"][1]"
   ]
  },
  {
   "cell_type": "code",
   "execution_count": 68,
   "id": "0f0c2bf3",
   "metadata": {},
   "outputs": [
    {
     "name": "stdout",
     "output_type": "stream",
     "text": [
      "{1: {'Apple': [1, 2, 3]}, 2: {'Ball': [4, 5, 6]}, 3: {'Cat': [7, 8, 9]}}\n"
     ]
    }
   ],
   "source": [
    "# Declaring nested dictionary\n",
    "d2  = { 1:{\"Apple\":[1,2,3]},\n",
    "        2:{\"Ball\":[4,5,6]},\n",
    "        3:{\"Cat\":[7,8,9]}\n",
    "      }\n",
    "print(d2)"
   ]
  },
  {
   "cell_type": "code",
   "execution_count": 69,
   "id": "de306212",
   "metadata": {},
   "outputs": [
    {
     "data": {
      "text/plain": [
       "8"
      ]
     },
     "execution_count": 69,
     "metadata": {},
     "output_type": "execute_result"
    }
   ],
   "source": [
    "# Accessing 8 from the nested dictionary\n",
    "d2[3]['Cat'][1]"
   ]
  },
  {
   "cell_type": "code",
   "execution_count": 70,
   "id": "63a381e0",
   "metadata": {},
   "outputs": [
    {
     "name": "stdout",
     "output_type": "stream",
     "text": [
      "{1: {'Apple': [1, 2, 3]}, 2: {'Ball': [4, 5, 6]}, 3: {'Cat': [7, 8, 9]}, 0: {'Dog': [10, 11, 12]}}\n"
     ]
    }
   ],
   "source": [
    "# Adding a new key:value pair to the dictionary\n",
    "d2[0] = {\"Dog\":[10,11,12]}\n",
    "print(d2)"
   ]
  },
  {
   "cell_type": "code",
   "execution_count": 71,
   "id": "b7c6c1ad",
   "metadata": {},
   "outputs": [
    {
     "name": "stdout",
     "output_type": "stream",
     "text": [
      "{1: {'Apple': [1, 2, 3]}, 2: {'Ball': [4, 5, 6]}, 3: {'Cat': [7, 8, 9]}}\n"
     ]
    }
   ],
   "source": [
    "# Removing elements from the dictionary\n",
    "# pop(\"Key value\")\n",
    "d2.pop(0)\n",
    "print (d2)"
   ]
  },
  {
   "cell_type": "code",
   "execution_count": 59,
   "id": "f282fbda",
   "metadata": {},
   "outputs": [
    {
     "data": {
      "text/plain": [
       "dict_keys([1, 2, 3, 0])"
      ]
     },
     "execution_count": 59,
     "metadata": {},
     "output_type": "execute_result"
    }
   ],
   "source": [
    "# Listing all the keys\n",
    "d2.keys()"
   ]
  },
  {
   "cell_type": "code",
   "execution_count": 60,
   "id": "c765a43a",
   "metadata": {},
   "outputs": [
    {
     "data": {
      "text/plain": [
       "dict_values([{'Apple': [1, 2, 3]}, {'Ball': [4, 5, 6]}, {'Cat': [7, 8, 9]}, {'Dog': [10, 11, 12]}])"
      ]
     },
     "execution_count": 60,
     "metadata": {},
     "output_type": "execute_result"
    }
   ],
   "source": [
    "# Listing all the values\n",
    "d2.values()"
   ]
  },
  {
   "cell_type": "code",
   "execution_count": 62,
   "id": "5af607dc",
   "metadata": {},
   "outputs": [
    {
     "data": {
      "text/plain": [
       "dict_items([(1, {'Apple': [1, 2, 3]}), (2, {'Ball': [4, 5, 6]}), (3, {'Cat': [7, 8, 9]}), (0, {'Dog': [10, 11, 12]})])"
      ]
     },
     "execution_count": 62,
     "metadata": {},
     "output_type": "execute_result"
    }
   ],
   "source": [
    "# Listing the Key:Value pairs in the dictionary\n",
    "d2.items()"
   ]
  },
  {
   "cell_type": "code",
   "execution_count": null,
   "id": "9a02286f",
   "metadata": {},
   "outputs": [],
   "source": []
  }
 ],
 "metadata": {
  "kernelspec": {
   "display_name": "Python 3 (ipykernel)",
   "language": "python",
   "name": "python3"
  },
  "language_info": {
   "codemirror_mode": {
    "name": "ipython",
    "version": 3
   },
   "file_extension": ".py",
   "mimetype": "text/x-python",
   "name": "python",
   "nbconvert_exporter": "python",
   "pygments_lexer": "ipython3",
   "version": "3.9.12"
  }
 },
 "nbformat": 4,
 "nbformat_minor": 5
}
