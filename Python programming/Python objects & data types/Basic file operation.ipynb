{
 "cells": [
  {
   "cell_type": "code",
   "execution_count": 59,
   "id": "2dc33a2e",
   "metadata": {},
   "outputs": [
    {
     "name": "stdout",
     "output_type": "stream",
     "text": [
      "Overwriting test.txt\n"
     ]
    }
   ],
   "source": [
    "%%writefile test.txt\n",
    "Apple\n",
    "Ball\n",
    "Cat"
   ]
  },
  {
   "cell_type": "markdown",
   "id": "9e721358",
   "metadata": {},
   "source": [
    "# File modes"
   ]
  },
  {
   "cell_type": "markdown",
   "id": "b1eb8101",
   "metadata": {},
   "source": [
    "* r : read only\n",
    "* w : write only (will overwrite or create new)\n",
    "* a : append\n",
    "* r+ : read and write\n",
    "* w+ : write and read (will overwrite or create new)"
   ]
  },
  {
   "cell_type": "code",
   "execution_count": 60,
   "id": "ca03132e",
   "metadata": {},
   "outputs": [],
   "source": [
    "# Opening a file in read mode\n",
    "contents = open('test.txt',mode='r')"
   ]
  },
  {
   "cell_type": "code",
   "execution_count": 61,
   "id": "60583ec8",
   "metadata": {},
   "outputs": [
    {
     "data": {
      "text/plain": [
       "'Apple\\nBall\\nCat\\n'"
      ]
     },
     "execution_count": 61,
     "metadata": {},
     "output_type": "execute_result"
    }
   ],
   "source": [
    "# Reading the contents of the file\n",
    "contents.seek(0)\n",
    "contents.read()"
   ]
  },
  {
   "cell_type": "code",
   "execution_count": 62,
   "id": "2c2346c9",
   "metadata": {},
   "outputs": [
    {
     "data": {
      "text/plain": [
       "['Apple\\n', 'Ball\\n', 'Cat\\n']"
      ]
     },
     "execution_count": 62,
     "metadata": {},
     "output_type": "execute_result"
    }
   ],
   "source": [
    "# Reading the contents as list\n",
    "contents.seek(0)\n",
    "contents.readlines()"
   ]
  },
  {
   "cell_type": "code",
   "execution_count": 63,
   "id": "6a0c5a71",
   "metadata": {},
   "outputs": [],
   "source": [
    "# Closing the file\n",
    "contents.close()"
   ]
  },
  {
   "cell_type": "code",
   "execution_count": 64,
   "id": "5096538d",
   "metadata": {},
   "outputs": [],
   "source": [
    "# Opening the file in the append mode\n",
    "app = open('test.txt',mode='a')"
   ]
  },
  {
   "cell_type": "code",
   "execution_count": 65,
   "id": "4d2e944e",
   "metadata": {},
   "outputs": [
    {
     "data": {
      "text/plain": [
       "3"
      ]
     },
     "execution_count": 65,
     "metadata": {},
     "output_type": "execute_result"
    }
   ],
   "source": [
    "# Appending the contents to the file\n",
    "app.write(\"Dog\")"
   ]
  },
  {
   "cell_type": "code",
   "execution_count": 66,
   "id": "b533cc58",
   "metadata": {},
   "outputs": [],
   "source": [
    "app.close()"
   ]
  },
  {
   "cell_type": "code",
   "execution_count": 67,
   "id": "7684303e",
   "metadata": {},
   "outputs": [
    {
     "name": "stdout",
     "output_type": "stream",
     "text": [
      "Apple\n",
      "Ball\n",
      "Cat\n",
      "Dog\n"
     ]
    }
   ],
   "source": [
    "# Changes are visible\n",
    "contents = open('test.txt',mode='r')\n",
    "print (contents.read())\n",
    "contents.close()"
   ]
  },
  {
   "cell_type": "code",
   "execution_count": 68,
   "id": "5937ada7",
   "metadata": {},
   "outputs": [],
   "source": [
    "# Openign the file in the write mode\n",
    "fop = open('test.txt',mode='w+')"
   ]
  },
  {
   "cell_type": "code",
   "execution_count": 69,
   "id": "b30161f2",
   "metadata": {},
   "outputs": [
    {
     "data": {
      "text/plain": [
       "'Hello'"
      ]
     },
     "execution_count": 69,
     "metadata": {},
     "output_type": "execute_result"
    }
   ],
   "source": [
    "# Overwrite the exisiting file\n",
    "fop.write(\"Hello\")"
   ]
  },
  {
   "cell_type": "code",
   "execution_count": 72,
   "id": "6a4c0a98",
   "metadata": {},
   "outputs": [
    {
     "data": {
      "text/plain": [
       "'Hello'"
      ]
     },
     "execution_count": 72,
     "metadata": {},
     "output_type": "execute_result"
    }
   ],
   "source": [
    "fop.seek(0)\n",
    "fop.read()"
   ]
  },
  {
   "cell_type": "code",
   "execution_count": 73,
   "id": "16b078a8",
   "metadata": {},
   "outputs": [],
   "source": [
    "fop.close()"
   ]
  },
  {
   "cell_type": "code",
   "execution_count": 74,
   "id": "06bc6e60",
   "metadata": {},
   "outputs": [],
   "source": [
    "# Reading the file method 2. When this method is used, there is no need to close the file.\n",
    "with open('test.txt') as red:\n",
    "    contents = red.read()"
   ]
  },
  {
   "cell_type": "code",
   "execution_count": 75,
   "id": "257de279",
   "metadata": {},
   "outputs": [
    {
     "name": "stdout",
     "output_type": "stream",
     "text": [
      "Hello\n"
     ]
    }
   ],
   "source": [
    "print(contents)"
   ]
  },
  {
   "cell_type": "code",
   "execution_count": null,
   "id": "9661067d",
   "metadata": {},
   "outputs": [],
   "source": []
  }
 ],
 "metadata": {
  "kernelspec": {
   "display_name": "Python 3 (ipykernel)",
   "language": "python",
   "name": "python3"
  },
  "language_info": {
   "codemirror_mode": {
    "name": "ipython",
    "version": 3
   },
   "file_extension": ".py",
   "mimetype": "text/x-python",
   "name": "python",
   "nbconvert_exporter": "python",
   "pygments_lexer": "ipython3",
   "version": "3.9.12"
  }
 },
 "nbformat": 4,
 "nbformat_minor": 5
}
