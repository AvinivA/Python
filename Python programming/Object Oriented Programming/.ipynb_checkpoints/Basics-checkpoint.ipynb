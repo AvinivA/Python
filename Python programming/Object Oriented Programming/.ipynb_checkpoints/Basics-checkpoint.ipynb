{
 "cells": [
  {
   "cell_type": "markdown",
   "id": "0160e5ad",
   "metadata": {},
   "source": [
    "# class keyword and attributes "
   ]
  },
  {
   "cell_type": "code",
   "execution_count": 4,
   "id": "05b7d560",
   "metadata": {},
   "outputs": [],
   "source": [
    "# By convention, camel casing is used for class names i.e the first alphabet will be in uppercase and no underscore is used.\n",
    "class Dog():\n",
    "    \n",
    "    # In C++, by default the 'this' keyword is passed to each methods and 'this' keyword can be used to access the attributes of class.\n",
    "    # However, in python we have to explicitly pass the 'self' keyword so that the method or attribute is bound to the class.\n",
    "    \n",
    "    # Init method is similar to constructor in c++\n",
    "    def __init__(self,name,breed):\n",
    "        # Class attributes- Instance variables\n",
    "        self.name = name\n",
    "        self.breed = breed\n",
    "        "
   ]
  },
  {
   "cell_type": "code",
   "execution_count": 10,
   "id": "db770b54",
   "metadata": {},
   "outputs": [],
   "source": [
    "# Creating the object (instance of class)\n",
    "my_dog = Dog(\"Ramu\",\"Lab\")\n",
    "my_dog2 = Dog(name=\"Shamu\",breed=\"Dalmatian\")"
   ]
  },
  {
   "cell_type": "code",
   "execution_count": 11,
   "id": "33336653",
   "metadata": {},
   "outputs": [
    {
     "name": "stdout",
     "output_type": "stream",
     "text": [
      "Ramu\n",
      "Lab\n"
     ]
    }
   ],
   "source": [
    "print (my_dog.name)\n",
    "print (my_dog.breed)"
   ]
  },
  {
   "cell_type": "code",
   "execution_count": 12,
   "id": "63c9c2d6",
   "metadata": {},
   "outputs": [
    {
     "name": "stdout",
     "output_type": "stream",
     "text": [
      "Shamu\n",
      "Dalmatian\n"
     ]
    }
   ],
   "source": [
    "print (my_dog2.name)\n",
    "print (my_dog2.breed)"
   ]
  },
  {
   "cell_type": "markdown",
   "id": "102d901c",
   "metadata": {},
   "source": [
    "# Class object attributes and methods"
   ]
  },
  {
   "cell_type": "code",
   "execution_count": 20,
   "id": "94102c8c",
   "metadata": {},
   "outputs": [],
   "source": [
    "class Circle():\n",
    "    \n",
    "    # Class attribute- class variable; constant value for all instances of the class\n",
    "    PI = 3.14\n",
    "    \n",
    "    def __init__(self,radius):\n",
    "        self.radius = radius # Instance variable\n",
    "        self.dummy = 100 # Instance variable\n",
    "    \n",
    "    # Method\n",
    "    def area(self,param):\n",
    "        # Accessing class variables can be done using self.PI or Circle.PI, but it is convention to use Circle.PI.\n",
    "        print(f\"Area:{Circle.PI*self.radius**2} Param:{param} Dummy:{self.dummy}\")"
   ]
  },
  {
   "cell_type": "code",
   "execution_count": 21,
   "id": "59a0a82a",
   "metadata": {},
   "outputs": [],
   "source": [
    "my_circle = Circle(2)"
   ]
  },
  {
   "cell_type": "code",
   "execution_count": 22,
   "id": "075b1fbd",
   "metadata": {},
   "outputs": [
    {
     "name": "stdout",
     "output_type": "stream",
     "text": [
      "Area:12.56 Param:10 Dummy:100\n"
     ]
    }
   ],
   "source": [
    "my_circle.area(10)"
   ]
  },
  {
   "cell_type": "markdown",
   "id": "64fe3cbb",
   "metadata": {},
   "source": [
    "# Inheritence"
   ]
  },
  {
   "cell_type": "code",
   "execution_count": 29,
   "id": "6c1084b2",
   "metadata": {},
   "outputs": [],
   "source": [
    "class Animal():\n",
    "    \n",
    "    def __init__(self,name):\n",
    "        self.name = name\n",
    "    \n",
    "    def who_am_i(self):\n",
    "        print (f\"Hello, I am animal and my name is {self.name}\")\n",
    "    \n",
    "    def run(self):\n",
    "        print(\"Animal: Runnig\")"
   ]
  },
  {
   "cell_type": "code",
   "execution_count": 30,
   "id": "d31663db",
   "metadata": {},
   "outputs": [],
   "source": [
    "# Dog class inherits Animal class.\n",
    "class Dog(Animal):\n",
    "    \n",
    "    def who_am_i(self):\n",
    "        print(f\"Hello, I am Dog and my name is {self.name}\")\n",
    "    "
   ]
  },
  {
   "cell_type": "code",
   "execution_count": 31,
   "id": "cd296a6d",
   "metadata": {},
   "outputs": [
    {
     "name": "stdout",
     "output_type": "stream",
     "text": [
      "Hello, I am animal and my name is Ramu\n",
      "Animal: Runnig\n"
     ]
    }
   ],
   "source": [
    "my_animal = Animal(\"Ramu\")\n",
    "my_animal.who_am_i()\n",
    "my_animal.run()"
   ]
  },
  {
   "cell_type": "code",
   "execution_count": 32,
   "id": "653beca9",
   "metadata": {},
   "outputs": [
    {
     "name": "stdout",
     "output_type": "stream",
     "text": [
      "Hello, I am Dog and my name is Shamu\n",
      "Animal: Runnig\n"
     ]
    }
   ],
   "source": [
    "my_dog = Dog(\"Shamu\")\n",
    "my_dog.who_am_i()\n",
    "my_dog.run()"
   ]
  },
  {
   "cell_type": "markdown",
   "id": "1fc9706d",
   "metadata": {},
   "source": [
    "# Polymorphism"
   ]
  },
  {
   "cell_type": "code",
   "execution_count": 56,
   "id": "59825b59",
   "metadata": {},
   "outputs": [],
   "source": [
    "class Shape():\n",
    "    \n",
    "    def __init__(self,length,breadth):\n",
    "        print(\"Shape Created\")\n",
    "        self.length = length\n",
    "        self.breadth = breadth\n",
    "        \n",
    "    def area(self):\n",
    "        raise NotImplementedError(\"Area has to be implemented in subclasses\")"
   ]
  },
  {
   "cell_type": "code",
   "execution_count": 57,
   "id": "9611661b",
   "metadata": {},
   "outputs": [],
   "source": [
    "class Rectangle(Shape):\n",
    "    \n",
    "    def area(self):\n",
    "        print(f\"Rectangle Area:{self.length*self.breadth}\")"
   ]
  },
  {
   "cell_type": "code",
   "execution_count": 58,
   "id": "785af7ff",
   "metadata": {},
   "outputs": [],
   "source": [
    "class Square(Shape):\n",
    "    \n",
    "    def area(self):\n",
    "        print(f\"Square Area: {self.length*self.breadth}\")"
   ]
  },
  {
   "cell_type": "code",
   "execution_count": 59,
   "id": "f63e3694",
   "metadata": {},
   "outputs": [],
   "source": [
    "# Polymorphic behaviour- It is possible to call the methods of sub-classes from a single object\n",
    "def print_area(item):\n",
    "    item.area()"
   ]
  },
  {
   "cell_type": "code",
   "execution_count": 60,
   "id": "a6a406ea",
   "metadata": {},
   "outputs": [
    {
     "name": "stdout",
     "output_type": "stream",
     "text": [
      "Shape Created\n",
      "Shape Created\n"
     ]
    }
   ],
   "source": [
    "rec = Rectangle(10,20)\n",
    "sq = Square(10,10)"
   ]
  },
  {
   "cell_type": "code",
   "execution_count": 61,
   "id": "2cc24455",
   "metadata": {},
   "outputs": [
    {
     "name": "stdout",
     "output_type": "stream",
     "text": [
      "Rectangle Area:200\n",
      "Square Area: 100\n"
     ]
    }
   ],
   "source": [
    "for item in [rec,sq]:\n",
    "    print_area(item)"
   ]
  },
  {
   "cell_type": "markdown",
   "id": "e2914f0e",
   "metadata": {},
   "source": [
    "# Special magic methods"
   ]
  },
  {
   "cell_type": "code",
   "execution_count": 63,
   "id": "3ab9746d",
   "metadata": {},
   "outputs": [],
   "source": [
    "class Employee():\n",
    "    \n",
    "    def __init__(self,name,age,designation,service_period):\n",
    "        self.age = age;\n",
    "        self.name = name\n",
    "        self.designation = designation\n",
    "        self.service_period = service_period\n",
    "        \n",
    "    # When string functions are called on this class' object, then this method is called\n",
    "    def __str__(self):\n",
    "        return f\"Name:{self.name} Age:{self.age} Designation:{self.designation}\"\n",
    "    \n",
    "    # When length functions are called on this class' object, then this method is called\n",
    "    def __len__(self):\n",
    "        return self.service_period\n",
    "    \n",
    "    # When del (used to delete an object from the memory) is called, this method is called\n",
    "    def __del__(self):\n",
    "        print (\"Employee deleted\")"
   ]
  },
  {
   "cell_type": "code",
   "execution_count": 68,
   "id": "77fc3152",
   "metadata": {},
   "outputs": [
    {
     "name": "stdout",
     "output_type": "stream",
     "text": [
      "Employee deleted\n"
     ]
    }
   ],
   "source": [
    "e = Employee(\"Avinash\",24,\"SDE\",3)"
   ]
  },
  {
   "cell_type": "code",
   "execution_count": 69,
   "id": "9bca05fa",
   "metadata": {},
   "outputs": [
    {
     "data": {
      "text/plain": [
       "'Name:Avinash Age:24 Designation:SDE'"
      ]
     },
     "execution_count": 69,
     "metadata": {},
     "output_type": "execute_result"
    }
   ],
   "source": [
    "str(e)"
   ]
  },
  {
   "cell_type": "code",
   "execution_count": 70,
   "id": "7b18d20b",
   "metadata": {},
   "outputs": [
    {
     "name": "stdout",
     "output_type": "stream",
     "text": [
      "Name:Avinash Age:24 Designation:SDE\n"
     ]
    }
   ],
   "source": [
    "# Print requests for __str__ method from the class\n",
    "print(e)"
   ]
  },
  {
   "cell_type": "code",
   "execution_count": 71,
   "id": "1dc884b2",
   "metadata": {},
   "outputs": [
    {
     "data": {
      "text/plain": [
       "3"
      ]
     },
     "execution_count": 71,
     "metadata": {},
     "output_type": "execute_result"
    }
   ],
   "source": [
    "len(e)"
   ]
  },
  {
   "cell_type": "code",
   "execution_count": 72,
   "id": "f9b5bd58",
   "metadata": {},
   "outputs": [
    {
     "name": "stdout",
     "output_type": "stream",
     "text": [
      "Employee deleted\n"
     ]
    }
   ],
   "source": [
    "del (e)"
   ]
  },
  {
   "cell_type": "code",
   "execution_count": null,
   "id": "cad201f6",
   "metadata": {},
   "outputs": [],
   "source": []
  }
 ],
 "metadata": {
  "kernelspec": {
   "display_name": "Python 3 (ipykernel)",
   "language": "python",
   "name": "python3"
  },
  "language_info": {
   "codemirror_mode": {
    "name": "ipython",
    "version": 3
   },
   "file_extension": ".py",
   "mimetype": "text/x-python",
   "name": "python",
   "nbconvert_exporter": "python",
   "pygments_lexer": "ipython3",
   "version": "3.9.12"
  }
 },
 "nbformat": 4,
 "nbformat_minor": 5
}
