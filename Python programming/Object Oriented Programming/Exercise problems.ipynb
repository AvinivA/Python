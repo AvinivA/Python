{
 "cells": [
  {
   "cell_type": "markdown",
   "id": "3ae312f8",
   "metadata": {},
   "source": [
    "# Homework problems"
   ]
  },
  {
   "cell_type": "markdown",
   "id": "425eeceb",
   "metadata": {},
   "source": [
    "Problem 1: \n",
    "Fill in the Line class methods to accept coordinates as a pair of tuples and return the slope and distance of the line."
   ]
  },
  {
   "cell_type": "code",
   "execution_count": 31,
   "id": "010eabb7",
   "metadata": {},
   "outputs": [],
   "source": [
    "class Line:\n",
    "    def __init__(self,coor1,coor2):\n",
    "        self.coor1 = coor1\n",
    "        self.coor2 = coor2\n",
    "        \n",
    "    def distance(self):\n",
    "        return (((self.coor2[0]-self.coor1[0])**2) +((self.coor2[1]-self.coor1[1])**2))**(1/2)\n",
    "    \n",
    "    def slope(self):\n",
    "        return (self.coor2[1]-self.coor1[1])/(self.coor2[0]-self.coor1[0])"
   ]
  },
  {
   "cell_type": "code",
   "execution_count": 32,
   "id": "39940b34",
   "metadata": {},
   "outputs": [],
   "source": [
    "coordinate1 = (3,2)\n",
    "coordinate2 = (8,10)\n",
    "\n",
    "li = Line(coordinate1,coordinate2)"
   ]
  },
  {
   "cell_type": "code",
   "execution_count": 33,
   "id": "68318f7f",
   "metadata": {},
   "outputs": [
    {
     "data": {
      "text/plain": [
       "9.433981132056603"
      ]
     },
     "execution_count": 33,
     "metadata": {},
     "output_type": "execute_result"
    }
   ],
   "source": [
    "li.distance()"
   ]
  },
  {
   "cell_type": "code",
   "execution_count": 27,
   "id": "2b5e6939",
   "metadata": {},
   "outputs": [
    {
     "data": {
      "text/plain": [
       "1.6"
      ]
     },
     "execution_count": 27,
     "metadata": {},
     "output_type": "execute_result"
    }
   ],
   "source": [
    "li.slope()"
   ]
  },
  {
   "cell_type": "markdown",
   "id": "15df022f",
   "metadata": {},
   "source": [
    "Problem 2: Fill in the class to accept cyliner parameters and return the volume and surface_area"
   ]
  },
  {
   "cell_type": "code",
   "execution_count": 46,
   "id": "d41de690",
   "metadata": {},
   "outputs": [],
   "source": [
    "class Cyliner:\n",
    "    \n",
    "    PI = 3.14\n",
    "    \n",
    "    def __init__(self,height=1,radius=1):\n",
    "        self.height = height\n",
    "        self.radius = radius\n",
    "        \n",
    "    def volume(self):\n",
    "        return self.height*Cyliner.PI*(self.radius)**2\n",
    "    \n",
    "    def surface_area(self):\n",
    "        # 2*pi*r*h + 2pi*r^2\n",
    "        return (self.height*2*Cyliner.PI*self.radius)+(2*Cyliner.PI*self.radius**2)"
   ]
  },
  {
   "cell_type": "code",
   "execution_count": 47,
   "id": "b38b2bba",
   "metadata": {},
   "outputs": [],
   "source": [
    "cyl = Cyliner(2,3)"
   ]
  },
  {
   "cell_type": "code",
   "execution_count": 48,
   "id": "eceb161b",
   "metadata": {},
   "outputs": [
    {
     "data": {
      "text/plain": [
       "56.52"
      ]
     },
     "execution_count": 48,
     "metadata": {},
     "output_type": "execute_result"
    }
   ],
   "source": [
    "cyl.volume()"
   ]
  },
  {
   "cell_type": "code",
   "execution_count": 49,
   "id": "a40660f5",
   "metadata": {},
   "outputs": [
    {
     "data": {
      "text/plain": [
       "94.2"
      ]
     },
     "execution_count": 49,
     "metadata": {},
     "output_type": "execute_result"
    }
   ],
   "source": [
    "cyl.surface_area()"
   ]
  },
  {
   "cell_type": "code",
   "execution_count": null,
   "id": "5341413e",
   "metadata": {},
   "outputs": [],
   "source": []
  }
 ],
 "metadata": {
  "kernelspec": {
   "display_name": "Python 3 (ipykernel)",
   "language": "python",
   "name": "python3"
  },
  "language_info": {
   "codemirror_mode": {
    "name": "ipython",
    "version": 3
   },
   "file_extension": ".py",
   "mimetype": "text/x-python",
   "name": "python",
   "nbconvert_exporter": "python",
   "pygments_lexer": "ipython3",
   "version": "3.9.12"
  }
 },
 "nbformat": 4,
 "nbformat_minor": 5
}
