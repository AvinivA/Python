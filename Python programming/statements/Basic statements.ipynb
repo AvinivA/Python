{
 "cells": [
  {
   "cell_type": "markdown",
   "id": "ee9696de",
   "metadata": {},
   "source": [
    "# if, elif and else statements"
   ]
  },
  {
   "cell_type": "code",
   "execution_count": 4,
   "id": "ce05371c",
   "metadata": {},
   "outputs": [
    {
     "name": "stdout",
     "output_type": "stream",
     "text": [
      "Your are in home\n"
     ]
    }
   ],
   "source": [
    "loc = \"Home\"\n",
    "\n",
    "if loc == 'school':\n",
    "    print(\"Your are in school\")\n",
    "elif loc == \"Home\":\n",
    "    print(\"Your are in home\")\n",
    "else:\n",
    "    print(\"Where are you ?\")"
   ]
  },
  {
   "cell_type": "markdown",
   "id": "10448abd",
   "metadata": {},
   "source": [
    "# for loops"
   ]
  },
  {
   "cell_type": "code",
   "execution_count": 5,
   "id": "57a88bae",
   "metadata": {},
   "outputs": [
    {
     "name": "stdout",
     "output_type": "stream",
     "text": [
      "H\n",
      "e\n",
      "l\n",
      "l\n",
      "o\n",
      " \n",
      "w\n",
      "r\n",
      "o\n",
      "l\n",
      "d\n"
     ]
    }
   ],
   "source": [
    "## Iterating a string\n",
    "str = \"Hello world\"\n",
    "for c in str:\n",
    "    print(c)"
   ]
  },
  {
   "cell_type": "code",
   "execution_count": 9,
   "id": "90438679",
   "metadata": {},
   "outputs": [
    {
     "name": "stdout",
     "output_type": "stream",
     "text": [
      "1\n",
      "2\n",
      "3\n",
      "4\n",
      "5\n",
      "6\n"
     ]
    }
   ],
   "source": [
    "# Tupple unpacking- obtaining the tuples present in the list\n",
    "lst = [(1,2),(3,4),(5,6)]\n",
    "\n",
    "for a,b in lst:\n",
    "    print(a)\n",
    "    print(b)"
   ]
  },
  {
   "cell_type": "code",
   "execution_count": 10,
   "id": "419ce63e",
   "metadata": {},
   "outputs": [
    {
     "name": "stdout",
     "output_type": "stream",
     "text": [
      "k1\n",
      "k2\n",
      "k3\n"
     ]
    }
   ],
   "source": [
    "# Iterating through dictionary\n",
    "# Note- In dictionaries there is no gurantee that the obtained values are in the order they are initilaized.\n",
    "d = {'k1':'v1','k2':'v2','k3':'v3'}\n",
    "\n",
    "# only keys are printed by default\n",
    "for item in d:\n",
    "    print(item)"
   ]
  },
  {
   "cell_type": "code",
   "execution_count": 12,
   "id": "aae875b8",
   "metadata": {},
   "outputs": [
    {
     "name": "stdout",
     "output_type": "stream",
     "text": [
      "v1\n",
      "v2\n",
      "v3\n"
     ]
    }
   ],
   "source": [
    "# Printing the values\n",
    "for val in d.values():\n",
    "    print (val)"
   ]
  },
  {
   "cell_type": "code",
   "execution_count": 14,
   "id": "0a5654cc",
   "metadata": {},
   "outputs": [
    {
     "name": "stdout",
     "output_type": "stream",
     "text": [
      "Key-k1:Val-v1\n",
      "Key-k2:Val-v2\n",
      "Key-k3:Val-v3\n"
     ]
    }
   ],
   "source": [
    "# To print the Key:Value pair\n",
    "for key,val in d.items():\n",
    "    print (\"Key-{}:Val-{}\".format(key,val))"
   ]
  },
  {
   "cell_type": "code",
   "execution_count": null,
   "id": "62323502",
   "metadata": {},
   "outputs": [],
   "source": []
  }
 ],
 "metadata": {
  "kernelspec": {
   "display_name": "Python 3 (ipykernel)",
   "language": "python",
   "name": "python3"
  },
  "language_info": {
   "codemirror_mode": {
    "name": "ipython",
    "version": 3
   },
   "file_extension": ".py",
   "mimetype": "text/x-python",
   "name": "python",
   "nbconvert_exporter": "python",
   "pygments_lexer": "ipython3",
   "version": "3.9.12"
  }
 },
 "nbformat": 4,
 "nbformat_minor": 5
}
