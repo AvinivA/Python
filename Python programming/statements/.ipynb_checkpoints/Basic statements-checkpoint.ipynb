{
 "cells": [
  {
   "cell_type": "markdown",
   "id": "ee9696de",
   "metadata": {},
   "source": [
    "# if, elif and else statements"
   ]
  },
  {
   "cell_type": "code",
   "execution_count": 4,
   "id": "ce05371c",
   "metadata": {},
   "outputs": [
    {
     "name": "stdout",
     "output_type": "stream",
     "text": [
      "Your are in home\n"
     ]
    }
   ],
   "source": [
    "loc = \"Home\"\n",
    "\n",
    "if loc == 'school':\n",
    "    print(\"Your are in school\")\n",
    "elif loc == \"Home\":\n",
    "    print(\"Your are in home\")\n",
    "else:\n",
    "    print(\"Where are you ?\")"
   ]
  },
  {
   "cell_type": "markdown",
   "id": "10448abd",
   "metadata": {},
   "source": [
    "# for loops"
   ]
  },
  {
   "cell_type": "code",
   "execution_count": 5,
   "id": "57a88bae",
   "metadata": {},
   "outputs": [
    {
     "name": "stdout",
     "output_type": "stream",
     "text": [
      "H\n",
      "e\n",
      "l\n",
      "l\n",
      "o\n",
      " \n",
      "w\n",
      "o\n",
      "r\n",
      "l\n",
      "d\n"
     ]
    }
   ],
   "source": [
    "## Iterating a string\n",
    "str = \"Hello world\"\n",
    "for c in str:\n",
    "    print(c)"
   ]
  },
  {
   "cell_type": "code",
   "execution_count": 6,
   "id": "90438679",
   "metadata": {},
   "outputs": [
    {
     "name": "stdout",
     "output_type": "stream",
     "text": [
      "1\n",
      "2\n",
      "3\n",
      "4\n",
      "5\n",
      "6\n"
     ]
    }
   ],
   "source": [
    "# Tupple unpacking- obtaining the tuples present in the list\n",
    "lst = [(1,2),(3,4),(5,6)]\n",
    "\n",
    "for a,b in lst:\n",
    "    print(a)\n",
    "    print(b)"
   ]
  },
  {
   "cell_type": "code",
   "execution_count": 7,
   "id": "419ce63e",
   "metadata": {},
   "outputs": [
    {
     "name": "stdout",
     "output_type": "stream",
     "text": [
      "k1\n",
      "k2\n",
      "k3\n"
     ]
    }
   ],
   "source": [
    "# Iterating through dictionary\n",
    "# Note- In dictionaries there is no gurantee that the obtained values are in the order they are initilaized.\n",
    "d = {'k1':'v1','k2':'v2','k3':'v3'}\n",
    "\n",
    "# only keys are printed by default\n",
    "for item in d:\n",
    "    print(item)"
   ]
  },
  {
   "cell_type": "code",
   "execution_count": 8,
   "id": "aae875b8",
   "metadata": {},
   "outputs": [
    {
     "name": "stdout",
     "output_type": "stream",
     "text": [
      "v1\n",
      "v2\n",
      "v3\n"
     ]
    }
   ],
   "source": [
    "# Printing the values\n",
    "for val in d.values():\n",
    "    print (val)"
   ]
  },
  {
   "cell_type": "code",
   "execution_count": 9,
   "id": "0a5654cc",
   "metadata": {},
   "outputs": [
    {
     "name": "stdout",
     "output_type": "stream",
     "text": [
      "Key-k1:Val-v1\n",
      "Key-k2:Val-v2\n",
      "Key-k3:Val-v3\n"
     ]
    }
   ],
   "source": [
    "# To print the Key:Value pair\n",
    "for key,val in d.items():\n",
    "    print (\"Key-{}:Val-{}\".format(key,val))"
   ]
  },
  {
   "cell_type": "markdown",
   "id": "e74078e3",
   "metadata": {},
   "source": [
    "# While loops"
   ]
  },
  {
   "cell_type": "code",
   "execution_count": 10,
   "id": "67ae7933",
   "metadata": {},
   "outputs": [
    {
     "name": "stdout",
     "output_type": "stream",
     "text": [
      "Value of x:0\n",
      "Value of x:1\n",
      "Value of x:2\n",
      "Value of x:3\n",
      "Value of x:4\n"
     ]
    }
   ],
   "source": [
    "x = 0\n",
    "\n",
    "while x < 5:\n",
    "    print(f'Value of x:{x}')\n",
    "    x += 1"
   ]
  },
  {
   "cell_type": "markdown",
   "id": "200f9325",
   "metadata": {},
   "source": [
    "#### break: Breaks out of the closest enclosed loop"
   ]
  },
  {
   "cell_type": "code",
   "execution_count": 11,
   "id": "a04a5c9b",
   "metadata": {},
   "outputs": [
    {
     "name": "stdout",
     "output_type": "stream",
     "text": [
      "Value of x:0\n",
      "Value of x:1\n"
     ]
    }
   ],
   "source": [
    "x = 0\n",
    "\n",
    "while x < 5:\n",
    "    if x == 2:\n",
    "        break\n",
    "    print(f'Value of x:{x}')\n",
    "    x += 1"
   ]
  },
  {
   "cell_type": "markdown",
   "id": "ef11eb58",
   "metadata": {},
   "source": [
    "#### continue: Moves to the top of the closest enclosed loop"
   ]
  },
  {
   "cell_type": "code",
   "execution_count": 15,
   "id": "207b5a28",
   "metadata": {},
   "outputs": [
    {
     "name": "stdout",
     "output_type": "stream",
     "text": [
      "Value of x:1\n",
      "Value of x:3\n",
      "Value of x:4\n",
      "Value of x:5\n"
     ]
    }
   ],
   "source": [
    "x = [1,2,3,4,5]\n",
    "\n",
    "for item in x:\n",
    "    if item == 2:\n",
    "        continue\n",
    "    print(f'Value of x:{item}')    "
   ]
  },
  {
   "cell_type": "markdown",
   "id": "93a95e09",
   "metadata": {},
   "source": [
    "#### pass: Does nothing. It is used instead of body of the loop to prevent any compiler errors"
   ]
  },
  {
   "cell_type": "code",
   "execution_count": 17,
   "id": "d3c1a19c",
   "metadata": {},
   "outputs": [],
   "source": [
    "x= [1,2]\n",
    "\n",
    "for it in x:\n",
    "    pass"
   ]
  },
  {
   "cell_type": "markdown",
   "id": "6103b028",
   "metadata": {},
   "source": [
    "# Useful operations in python"
   ]
  },
  {
   "cell_type": "markdown",
   "id": "e5131cc6",
   "metadata": {},
   "source": [
    "#### range(start,stop,step_size) : Generate a sequnce of numbers. This is a generator function, so need to cast that oputput to a list() to obtian the value."
   ]
  },
  {
   "cell_type": "code",
   "execution_count": 24,
   "id": "e214fa8c",
   "metadata": {},
   "outputs": [
    {
     "data": {
      "text/plain": [
       "[0, 1, 2, 3, 4, 5, 6, 7, 8, 9]"
      ]
     },
     "execution_count": 24,
     "metadata": {},
     "output_type": "execute_result"
    }
   ],
   "source": [
    "list(range(10))"
   ]
  },
  {
   "cell_type": "code",
   "execution_count": 25,
   "id": "3e45644b",
   "metadata": {},
   "outputs": [
    {
     "data": {
      "text/plain": [
       "range"
      ]
     },
     "execution_count": 25,
     "metadata": {},
     "output_type": "execute_result"
    }
   ],
   "source": [
    "type(range(10))"
   ]
  },
  {
   "cell_type": "code",
   "execution_count": 23,
   "id": "5e5493a1",
   "metadata": {},
   "outputs": [
    {
     "name": "stdout",
     "output_type": "stream",
     "text": [
      "i:0\n",
      "i:2\n",
      "i:4\n",
      "i:6\n",
      "i:8\n"
     ]
    }
   ],
   "source": [
    "for i in range(0,10,2):\n",
    "    print(\"i:{}\".format(i))"
   ]
  },
  {
   "cell_type": "markdown",
   "id": "4945c10a",
   "metadata": {},
   "source": [
    "#### enumerate: Yields pairs containing a count(starting from 0) and a value yielded by the iteratble object in form of tuples\n"
   ]
  },
  {
   "cell_type": "code",
   "execution_count": 29,
   "id": "7d099402",
   "metadata": {},
   "outputs": [
    {
     "data": {
      "text/plain": [
       "[(0, 'A'), (1, 'v'), (2, 'i'), (3, 'n'), (4, 'a'), (5, 's'), (6, 'h')]"
      ]
     },
     "execution_count": 29,
     "metadata": {},
     "output_type": "execute_result"
    }
   ],
   "source": [
    "list(enumerate(\"Avinash\"))"
   ]
  },
  {
   "cell_type": "code",
   "execution_count": 27,
   "id": "f43f56f2",
   "metadata": {},
   "outputs": [
    {
     "name": "stdout",
     "output_type": "stream",
     "text": [
      "0:A\n",
      "1:v\n",
      "2:i\n",
      "3:n\n",
      "4:a\n",
      "5:s\n",
      "6:h\n"
     ]
    }
   ],
   "source": [
    "# tuple unpacking\n",
    "for index,value in enumerate(\"Avinash\"):\n",
    "    print(f'{index}:{value}')"
   ]
  },
  {
   "cell_type": "markdown",
   "id": "2dd61d3d",
   "metadata": {},
   "source": [
    "#### zip: To combine/one-one mapping between two or more lists in form of tuples. The list having leat number of elements dicatates the mapping."
   ]
  },
  {
   "cell_type": "code",
   "execution_count": 32,
   "id": "b61593f2",
   "metadata": {},
   "outputs": [],
   "source": [
    "lst1 = ['a','b','c']\n",
    "lst2 = [1,2,3,4,5,6]\n",
    "lst3 = ['apple','ball']"
   ]
  },
  {
   "cell_type": "code",
   "execution_count": 33,
   "id": "6549a2c4",
   "metadata": {},
   "outputs": [
    {
     "data": {
      "text/plain": [
       "[('a', 1, 'apple'), ('b', 2, 'ball')]"
      ]
     },
     "execution_count": 33,
     "metadata": {},
     "output_type": "execute_result"
    }
   ],
   "source": [
    "list(zip(lst1,lst2,lst3))"
   ]
  },
  {
   "cell_type": "code",
   "execution_count": 34,
   "id": "24d6180a",
   "metadata": {},
   "outputs": [
    {
     "name": "stdout",
     "output_type": "stream",
     "text": [
      "a:1:apple\n",
      "b:2:ball\n"
     ]
    }
   ],
   "source": [
    "for ls1,ls2,ls3 in zip(lst1,lst2,lst3):\n",
    "    print(f'{ls1}:{ls2}:{ls3}')"
   ]
  },
  {
   "cell_type": "markdown",
   "id": "7ca46cbd",
   "metadata": {},
   "source": [
    "#### in: To check if a specific element in there in the iteratable object."
   ]
  },
  {
   "cell_type": "code",
   "execution_count": 35,
   "id": "5f02bc9e",
   "metadata": {},
   "outputs": [
    {
     "data": {
      "text/plain": [
       "True"
      ]
     },
     "execution_count": 35,
     "metadata": {},
     "output_type": "execute_result"
    }
   ],
   "source": [
    "\"a\" in ['x','x','a','o']"
   ]
  },
  {
   "cell_type": "code",
   "execution_count": 43,
   "id": "6cf86213",
   "metadata": {},
   "outputs": [
    {
     "name": "stdout",
     "output_type": "stream",
     "text": [
      "True\n",
      "True\n"
     ]
    }
   ],
   "source": [
    "d = {\"d1\":\"v1\",\"d2\":\"v2\",\"d3\":\"v3\"}\n",
    "# Checking if the key is present\n",
    "print (\"d1\" in d)\n",
    "# Checking if value is present\n",
    "print (\"v1\" in d.values())\n",
    "d."
   ]
  },
  {
   "cell_type": "markdown",
   "id": "2504e415",
   "metadata": {},
   "source": [
    "#### Min and Max"
   ]
  },
  {
   "cell_type": "code",
   "execution_count": 45,
   "id": "b356068b",
   "metadata": {},
   "outputs": [
    {
     "name": "stdout",
     "output_type": "stream",
     "text": [
      "1\n",
      "5\n"
     ]
    }
   ],
   "source": [
    "lst = [1,2,3,4,5]\n",
    "\n",
    "# Min\n",
    "print(min(lst))\n",
    "# Max\n",
    "print(max(lst))"
   ]
  },
  {
   "cell_type": "markdown",
   "id": "e2122ce8",
   "metadata": {},
   "source": [
    "#### random:  This is a python built in library which has many functions within it."
   ]
  },
  {
   "cell_type": "code",
   "execution_count": 46,
   "id": "84e7a11e",
   "metadata": {},
   "outputs": [],
   "source": [
    "from random import shuffle"
   ]
  },
  {
   "cell_type": "code",
   "execution_count": 47,
   "id": "596db162",
   "metadata": {},
   "outputs": [],
   "source": [
    "lst = [1,2,3,4,5,6]"
   ]
  },
  {
   "cell_type": "code",
   "execution_count": 49,
   "id": "b68234dc",
   "metadata": {},
   "outputs": [
    {
     "data": {
      "text/plain": [
       "[5, 6, 4, 1, 2, 3]"
      ]
     },
     "execution_count": 49,
     "metadata": {},
     "output_type": "execute_result"
    }
   ],
   "source": [
    "# Doesn't return anything. This changes are in place\n",
    "shuffle(lst)\n",
    "lst"
   ]
  },
  {
   "cell_type": "code",
   "execution_count": 50,
   "id": "a89e54b3",
   "metadata": {},
   "outputs": [],
   "source": [
    "from random import randint"
   ]
  },
  {
   "cell_type": "code",
   "execution_count": 51,
   "id": "9969f976",
   "metadata": {},
   "outputs": [
    {
     "data": {
      "text/plain": [
       "78"
      ]
     },
     "execution_count": 51,
     "metadata": {},
     "output_type": "execute_result"
    }
   ],
   "source": [
    "randint(0,99)"
   ]
  },
  {
   "cell_type": "markdown",
   "id": "5bac0aa6",
   "metadata": {},
   "source": [
    "#### input: To obtain the input from the user. By default, the obtained value is treated as string."
   ]
  },
  {
   "cell_type": "code",
   "execution_count": 56,
   "id": "e9274489",
   "metadata": {},
   "outputs": [
    {
     "name": "stdout",
     "output_type": "stream",
     "text": [
      "Enter any number:5\n"
     ]
    }
   ],
   "source": [
    "result = input(\"Enter any number:\")"
   ]
  },
  {
   "cell_type": "code",
   "execution_count": 57,
   "id": "181bc9ed",
   "metadata": {},
   "outputs": [
    {
     "data": {
      "text/plain": [
       "str"
      ]
     },
     "execution_count": 57,
     "metadata": {},
     "output_type": "execute_result"
    }
   ],
   "source": [
    "type(result)"
   ]
  },
  {
   "cell_type": "code",
   "execution_count": 58,
   "id": "d41c1ce0",
   "metadata": {},
   "outputs": [
    {
     "data": {
      "text/plain": [
       "5"
      ]
     },
     "execution_count": 58,
     "metadata": {},
     "output_type": "execute_result"
    }
   ],
   "source": [
    "# Casting it to int\n",
    "int(result)"
   ]
  },
  {
   "cell_type": "markdown",
   "id": "81c854aa",
   "metadata": {},
   "source": [
    "#### List Comprehensions: Is used to build a list using a different notation. It is a one line for loop built inside of a bracket."
   ]
  },
  {
   "cell_type": "code",
   "execution_count": 59,
   "id": "82df52ec",
   "metadata": {},
   "outputs": [
    {
     "data": {
      "text/plain": [
       "['H', 'e', 'l', 'l', 'o']"
      ]
     },
     "execution_count": 59,
     "metadata": {},
     "output_type": "execute_result"
    }
   ],
   "source": [
    "mylist = []\n",
    "\n",
    "for ch in \"Hello\":\n",
    "    mylist.append(ch)\n",
    "\n",
    "mylist"
   ]
  },
  {
   "cell_type": "code",
   "execution_count": 61,
   "id": "c6085faf",
   "metadata": {},
   "outputs": [
    {
     "data": {
      "text/plain": [
       "['H', 'e', 'l', 'l', 'o']"
      ]
     },
     "execution_count": 61,
     "metadata": {},
     "output_type": "execute_result"
    }
   ],
   "source": [
    "# List comprehension is used to convert the above code to one liner.\n",
    "lst = [ch for ch in \"Hello\"]\n",
    "lst"
   ]
  },
  {
   "cell_type": "code",
   "execution_count": 62,
   "id": "ffc8b5c0",
   "metadata": {},
   "outputs": [
    {
     "data": {
      "text/plain": [
       "[0, 1, 4, 9, 16]"
      ]
     },
     "execution_count": 62,
     "metadata": {},
     "output_type": "execute_result"
    }
   ],
   "source": [
    "# Squaring the numbers and turning them to list\n",
    "lst = [x**2 for x in range (0,5)]\n",
    "lst"
   ]
  },
  {
   "cell_type": "code",
   "execution_count": 63,
   "id": "89113032",
   "metadata": {},
   "outputs": [
    {
     "data": {
      "text/plain": [
       "[0, 2, 4]"
      ]
     },
     "execution_count": 63,
     "metadata": {},
     "output_type": "execute_result"
    }
   ],
   "source": [
    "# Adding if in the list comprehension\n",
    "lst = [x for x in range(5) if x%2 == 0]\n",
    "lst"
   ]
  },
  {
   "cell_type": "code",
   "execution_count": 67,
   "id": "f517a31a",
   "metadata": {},
   "outputs": [
    {
     "data": {
      "text/plain": [
       "[0.0, 1.0, 2.0]"
      ]
     },
     "execution_count": 67,
     "metadata": {},
     "output_type": "execute_result"
    }
   ],
   "source": [
    "# Nested for loop\n",
    "lst = [x/3 for x in [x*3 for x in range(3)]]\n",
    "lst"
   ]
  },
  {
   "cell_type": "code",
   "execution_count": null,
   "id": "92345c2b",
   "metadata": {},
   "outputs": [],
   "source": []
  }
 ],
 "metadata": {
  "kernelspec": {
   "display_name": "Python 3 (ipykernel)",
   "language": "python",
   "name": "python3"
  },
  "language_info": {
   "codemirror_mode": {
    "name": "ipython",
    "version": 3
   },
   "file_extension": ".py",
   "mimetype": "text/x-python",
   "name": "python",
   "nbconvert_exporter": "python",
   "pygments_lexer": "ipython3",
   "version": "3.9.12"
  }
 },
 "nbformat": 4,
 "nbformat_minor": 5
}
