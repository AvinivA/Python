{
 "cells": [
  {
   "cell_type": "markdown",
   "id": "33069f20",
   "metadata": {},
   "source": [
    "# Functions"
   ]
  },
  {
   "cell_type": "markdown",
   "id": "5f2a7192",
   "metadata": {},
   "source": [
    "For better redability, the function names are snake cased- names in lower case and underscores are used to seperate words."
   ]
  },
  {
   "cell_type": "code",
   "execution_count": 1,
   "id": "020e6d88",
   "metadata": {},
   "outputs": [],
   "source": [
    "def print_name(name='defualt'):\n",
    "    print(f'Hello {name}')"
   ]
  },
  {
   "cell_type": "code",
   "execution_count": 5,
   "id": "ba7bc97d",
   "metadata": {},
   "outputs": [
    {
     "name": "stdout",
     "output_type": "stream",
     "text": [
      "Hello Avinash\n",
      "Hello defualt\n"
     ]
    }
   ],
   "source": [
    "print_name(\"Avinash\")\n",
    "print_name()"
   ]
  },
  {
   "cell_type": "code",
   "execution_count": 3,
   "id": "6bb53e2b",
   "metadata": {},
   "outputs": [],
   "source": [
    "def return_sum(num1,num2):\n",
    "    return num1+num2"
   ]
  },
  {
   "cell_type": "code",
   "execution_count": 4,
   "id": "6ac5dad2",
   "metadata": {},
   "outputs": [
    {
     "data": {
      "text/plain": [
       "9"
      ]
     },
     "execution_count": 4,
     "metadata": {},
     "output_type": "execute_result"
    }
   ],
   "source": [
    "ret = return_sum(5,4)\n",
    "ret"
   ]
  },
  {
   "cell_type": "code",
   "execution_count": 22,
   "id": "4dc5c370",
   "metadata": {},
   "outputs": [],
   "source": [
    "work_hours = [(\"Abby\",400),('Billy',4000),('Cassie',800)]"
   ]
  },
  {
   "cell_type": "code",
   "execution_count": 23,
   "id": "ef16fce4",
   "metadata": {},
   "outputs": [],
   "source": [
    "def employee_of_year(tup_list):\n",
    "    \n",
    "    ename=''\n",
    "    max_hours = 0\n",
    "    \n",
    "    for name,hours in tup_list:\n",
    "        if (hours > max_hours):\n",
    "            ename = name\n",
    "            max_hours=hours\n",
    "            \n",
    "    return (ename,max_hours)        "
   ]
  },
  {
   "cell_type": "code",
   "execution_count": 26,
   "id": "c17facc6",
   "metadata": {},
   "outputs": [
    {
     "data": {
      "text/plain": [
       "('Billy', 4000)"
      ]
     },
     "execution_count": 26,
     "metadata": {},
     "output_type": "execute_result"
    }
   ],
   "source": [
    "result = employee_of_year(work_hours)\n",
    "result"
   ]
  },
  {
   "cell_type": "code",
   "execution_count": 27,
   "id": "52fa8f8a",
   "metadata": {},
   "outputs": [
    {
     "name": "stdout",
     "output_type": "stream",
     "text": [
      "Billy:4000\n"
     ]
    }
   ],
   "source": [
    "name,hours = employee_of_year(work_hours)\n",
    "print(f'{name}:{hours}')"
   ]
  },
  {
   "cell_type": "markdown",
   "id": "780cb1ac",
   "metadata": {},
   "source": [
    "# Arguments and keyword arguments"
   ]
  },
  {
   "cell_type": "markdown",
   "id": "b30cb5e4",
   "metadata": {},
   "source": [
    "<div class=\"boxBorder\">  *args and **kwargs are used to take arbitary number of inputs paramters in the function.</div>\n",
    "\n",
    "\n",
    "*args: Passed arguments will form a tuple\n",
    "\n",
    "\n",
    "**kwargs: Passed keyword arguments will form dictonary with key:value pairs."
   ]
  },
  {
   "cell_type": "code",
   "execution_count": 28,
   "id": "4758fad9",
   "metadata": {},
   "outputs": [],
   "source": [
    "def my_func(*args):\n",
    "    print(args)\n",
    "    print (sum(args))"
   ]
  },
  {
   "cell_type": "code",
   "execution_count": 29,
   "id": "8997854f",
   "metadata": {},
   "outputs": [
    {
     "name": "stdout",
     "output_type": "stream",
     "text": [
      "(10, 20, 30)\n",
      "60\n"
     ]
    }
   ],
   "source": [
    "my_func(10,20,30)"
   ]
  },
  {
   "cell_type": "code",
   "execution_count": 32,
   "id": "091a1635",
   "metadata": {},
   "outputs": [],
   "source": [
    "def my_func2(**kwargs):\n",
    "    print(kwargs)\n",
    "    print(\"Sport is: {}\".format(kwargs['Sport']))"
   ]
  },
  {
   "cell_type": "code",
   "execution_count": 35,
   "id": "5ff49064",
   "metadata": {},
   "outputs": [
    {
     "name": "stdout",
     "output_type": "stream",
     "text": [
      "{'Food': 'Dosa', 'Sport': 'Cricket'}\n",
      "Sport is: Cricket\n"
     ]
    }
   ],
   "source": [
    "# The first parameter should be just value and not a string.\n",
    "my_func2(Food=\"Dosa\",Sport=\"Cricket\")"
   ]
  },
  {
   "cell_type": "code",
   "execution_count": 36,
   "id": "3cc4db5b",
   "metadata": {},
   "outputs": [],
   "source": [
    "def my_func3(*args,**kwargs):\n",
    "    print(args)\n",
    "    print(kwargs)\n",
    "    "
   ]
  },
  {
   "cell_type": "code",
   "execution_count": 37,
   "id": "5e871867",
   "metadata": {},
   "outputs": [
    {
     "name": "stdout",
     "output_type": "stream",
     "text": [
      "('Hello', 'There')\n",
      "{'fruit': 'Apple', 'City': 'BLR'}\n"
     ]
    }
   ],
   "source": [
    "my_func3(\"Hello\",\"There\",fruit=\"Apple\",City=\"BLR\")"
   ]
  },
  {
   "cell_type": "code",
   "execution_count": 40,
   "id": "a07a264a",
   "metadata": {},
   "outputs": [
    {
     "data": {
      "text/plain": [
       "'a'"
      ]
     },
     "execution_count": 40,
     "metadata": {},
     "output_type": "execute_result"
    }
   ],
   "source": [
    "st = ''\n",
    "st+'a'"
   ]
  },
  {
   "cell_type": "markdown",
   "id": "def4924f",
   "metadata": {},
   "source": [
    "# Lambda function, Map and Filters"
   ]
  },
  {
   "cell_type": "markdown",
   "id": "9eacafc8",
   "metadata": {},
   "source": [
    "Lambda functions are anonymous functions without any name. They can take any number of arguments, but have only one expression.\n",
    "Lambda functions are needed when function objects are required.\n",
    "Usually lambda functions are used in map and filter which takes function object as paramter."
   ]
  },
  {
   "cell_type": "code",
   "execution_count": 45,
   "id": "6cb2af27",
   "metadata": {},
   "outputs": [],
   "source": [
    "def square(x):\n",
    "    print (f'{x**2}')"
   ]
  },
  {
   "cell_type": "code",
   "execution_count": 47,
   "id": "cd8fb4c3",
   "metadata": {},
   "outputs": [],
   "source": [
    "# This is just a function object. \n",
    "lsquare = lambda x:x**2"
   ]
  },
  {
   "cell_type": "code",
   "execution_count": 48,
   "id": "6115145a",
   "metadata": {},
   "outputs": [
    {
     "data": {
      "text/plain": [
       "4"
      ]
     },
     "execution_count": 48,
     "metadata": {},
     "output_type": "execute_result"
    }
   ],
   "source": [
    "# To call the function () are needed.\n",
    "lsquare(2)"
   ]
  },
  {
   "cell_type": "code",
   "execution_count": 50,
   "id": "b4c7f1d4",
   "metadata": {},
   "outputs": [
    {
     "data": {
      "text/plain": [
       "(1, 4, 9)"
      ]
     },
     "execution_count": 50,
     "metadata": {},
     "output_type": "execute_result"
    }
   ],
   "source": [
    "# Map- The passed function object will be called on the each object in the list.\n",
    "tuple(map(lambda y:y**2,[1,2,3]))"
   ]
  },
  {
   "cell_type": "code",
   "execution_count": 52,
   "id": "3f126db6",
   "metadata": {},
   "outputs": [
    {
     "data": {
      "text/plain": [
       "[0, 2, 4, 6, 8]"
      ]
     },
     "execution_count": 52,
     "metadata": {},
     "output_type": "execute_result"
    }
   ],
   "source": [
    "# Filter- Filters those iteratable values where the function object rerurns true.\n",
    "list(filter(lambda y:y%2==0,range(10)))"
   ]
  },
  {
   "cell_type": "markdown",
   "id": "b1c97fc7",
   "metadata": {},
   "source": [
    "# Nested statements and scope"
   ]
  },
  {
   "cell_type": "code",
   "execution_count": 57,
   "id": "e5d32bb0",
   "metadata": {},
   "outputs": [],
   "source": [
    "# This is a global variable\n",
    "x = 100\n",
    "\n",
    "def outer_func(x):\n",
    "    # Passed x value is in the local scope of outer_func\n",
    "    # Local values takes higher precedence than the global values in the scope of a function.\n",
    "    print(f\"Outer x:{x}\")\n",
    "    def inner_func():\n",
    "        \n",
    "        # Local to inner_func\n",
    "        x = 10\n",
    "        print(f\"Inner x:{x}\")\n",
    "    inner_func()\n",
    "    print(x)\n"
   ]
  },
  {
   "cell_type": "code",
   "execution_count": 58,
   "id": "27baea91",
   "metadata": {},
   "outputs": [
    {
     "name": "stdout",
     "output_type": "stream",
     "text": [
      "100\n"
     ]
    }
   ],
   "source": [
    "print(x)"
   ]
  },
  {
   "cell_type": "code",
   "execution_count": 59,
   "id": "60abb0dc",
   "metadata": {},
   "outputs": [
    {
     "name": "stdout",
     "output_type": "stream",
     "text": [
      "Outer x:5\n",
      "Inner x:10\n",
      "5\n"
     ]
    }
   ],
   "source": [
    "outer_func(5)"
   ]
  },
  {
   "cell_type": "markdown",
   "id": "081cee41",
   "metadata": {},
   "source": [
    "### Overwriting the global values"
   ]
  },
  {
   "cell_type": "markdown",
   "id": "6c0d21a0",
   "metadata": {},
   "source": [
    "#### Method1"
   ]
  },
  {
   "cell_type": "code",
   "execution_count": 60,
   "id": "ce22dc75",
   "metadata": {},
   "outputs": [],
   "source": [
    "y = 50\n",
    "\n",
    "def out():  \n",
    "    # Global keyword ensures that the reffered value is the global value. So, all the changes made to y changes the global value.\n",
    "    global y\n",
    "    y = 49\n",
    "    "
   ]
  },
  {
   "cell_type": "code",
   "execution_count": 61,
   "id": "a0880827",
   "metadata": {},
   "outputs": [
    {
     "name": "stdout",
     "output_type": "stream",
     "text": [
      "50\n"
     ]
    }
   ],
   "source": [
    "# Here the global value is still 50\n",
    "print(y)"
   ]
  },
  {
   "cell_type": "code",
   "execution_count": 62,
   "id": "74129ca0",
   "metadata": {},
   "outputs": [
    {
     "name": "stdout",
     "output_type": "stream",
     "text": [
      "49\n"
     ]
    }
   ],
   "source": [
    "# The global value will be updated after the function is called\n",
    "out()\n",
    "print(y)"
   ]
  },
  {
   "cell_type": "markdown",
   "id": "1ceb87ed",
   "metadata": {},
   "source": [
    "#### Method2 (suggested way)"
   ]
  },
  {
   "cell_type": "code",
   "execution_count": 63,
   "id": "71830b1b",
   "metadata": {},
   "outputs": [],
   "source": [
    "z = 50\n",
    "\n",
    "def out2(q):\n",
    "    return q \n",
    "    "
   ]
  },
  {
   "cell_type": "code",
   "execution_count": 64,
   "id": "15a008fe",
   "metadata": {},
   "outputs": [
    {
     "name": "stdout",
     "output_type": "stream",
     "text": [
      "50\n"
     ]
    }
   ],
   "source": [
    "# The global value is 50\n",
    "print(z)"
   ]
  },
  {
   "cell_type": "code",
   "execution_count": 67,
   "id": "e6b655c1",
   "metadata": {},
   "outputs": [
    {
     "name": "stdout",
     "output_type": "stream",
     "text": [
      "49\n"
     ]
    }
   ],
   "source": [
    "# Updating the global value\n",
    "z = out2(49)\n",
    "# The global value is updated\n",
    "print(z)"
   ]
  },
  {
   "cell_type": "code",
   "execution_count": null,
   "id": "1d439f76",
   "metadata": {},
   "outputs": [],
   "source": []
  }
 ],
 "metadata": {
  "kernelspec": {
   "display_name": "Python 3 (ipykernel)",
   "language": "python",
   "name": "python3"
  },
  "language_info": {
   "codemirror_mode": {
    "name": "ipython",
    "version": 3
   },
   "file_extension": ".py",
   "mimetype": "text/x-python",
   "name": "python",
   "nbconvert_exporter": "python",
   "pygments_lexer": "ipython3",
   "version": "3.9.12"
  }
 },
 "nbformat": 4,
 "nbformat_minor": 5
}
