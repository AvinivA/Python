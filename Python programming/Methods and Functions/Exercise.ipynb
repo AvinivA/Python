{
 "cells": [
  {
   "cell_type": "markdown",
   "id": "402b9d38",
   "metadata": {},
   "source": [
    "Write a function that returns the lesser of two given numbers if both numbers are even, but returns the greater if one or both numbers are odd\n",
    "\n",
    "lesser_of_two_evens(2,4) --> 2\n",
    "\n",
    "lesser_of_two_evens(2,5) --> 5"
   ]
  },
  {
   "cell_type": "code",
   "execution_count": 1,
   "id": "9d289c40",
   "metadata": {},
   "outputs": [],
   "source": [
    "def lesser_of_two_evens1(x1,x2):\n",
    "    if (x1%2 == 0) and (x2%2 == 0):\n",
    "        if (x1 > x2):\n",
    "            return x2\n",
    "        else:\n",
    "            return x1\n",
    "    else:\n",
    "        if (x1>x2):\n",
    "            return x1\n",
    "        else:\n",
    "            return x2"
   ]
  },
  {
   "cell_type": "code",
   "execution_count": 2,
   "id": "f9f2a05f",
   "metadata": {},
   "outputs": [],
   "source": [
    "# or\n",
    "def lesser_of_two_evens(x1,x2):\n",
    "    if (x1%2 == 0) and (x2%2 == 0):\n",
    "        return min(x1,x2)\n",
    "    else:\n",
    "        return max(x1,x2)"
   ]
  },
  {
   "cell_type": "code",
   "execution_count": 3,
   "id": "35408af1",
   "metadata": {},
   "outputs": [
    {
     "data": {
      "text/plain": [
       "2"
      ]
     },
     "execution_count": 3,
     "metadata": {},
     "output_type": "execute_result"
    }
   ],
   "source": [
    "lesser_of_two_evens(2,4)"
   ]
  },
  {
   "cell_type": "code",
   "execution_count": 4,
   "id": "a1e2d22c",
   "metadata": {},
   "outputs": [
    {
     "data": {
      "text/plain": [
       "5"
      ]
     },
     "execution_count": 4,
     "metadata": {},
     "output_type": "execute_result"
    }
   ],
   "source": [
    "lesser_of_two_evens(2,5)"
   ]
  },
  {
   "cell_type": "markdown",
   "id": "4df662eb",
   "metadata": {},
   "source": [
    "ANIMAL CRACKERS: Write a function takes a two-word string and returns True if both words begin with same letter\n",
    "\n",
    "animal_crackers('Levelheaded Llama') --> True\n",
    "\n",
    "animal_crackers('Crazy Kangaroo') --> False"
   ]
  },
  {
   "cell_type": "code",
   "execution_count": 10,
   "id": "79e5c1d8",
   "metadata": {},
   "outputs": [],
   "source": [
    "def animal_crackers(str1):\n",
    "    lst = str1.split()\n",
    "    if (lst[0][0].lower() == lst[1][0].lower()):\n",
    "        return True\n",
    "    else:\n",
    "        return False\n",
    "\n",
    "# ---- or -------\n",
    "# return lst[0][0] == lst[1][0]"
   ]
  },
  {
   "cell_type": "code",
   "execution_count": 14,
   "id": "6597b805",
   "metadata": {},
   "outputs": [
    {
     "data": {
      "text/plain": [
       "True"
      ]
     },
     "execution_count": 14,
     "metadata": {},
     "output_type": "execute_result"
    }
   ],
   "source": [
    "animal_crackers('Levelheaded Llama')"
   ]
  },
  {
   "cell_type": "code",
   "execution_count": 15,
   "id": "3b456872",
   "metadata": {},
   "outputs": [
    {
     "data": {
      "text/plain": [
       "False"
      ]
     },
     "execution_count": 15,
     "metadata": {},
     "output_type": "execute_result"
    }
   ],
   "source": [
    "# Check\n",
    "animal_crackers('Crazy Kangaroo')"
   ]
  },
  {
   "cell_type": "markdown",
   "id": "28cb8718",
   "metadata": {},
   "source": [
    "MAKES TWENTY: Given two integers, return True if the sum of the integers is 20 or if one of the integers is 20. If not, return False\n",
    "\n",
    "makes_twenty(20,10) --> True\n",
    "\n",
    "makes_twenty(12,8) --> True\n",
    "\n",
    "makes_twenty(2,3) --> False"
   ]
  },
  {
   "cell_type": "code",
   "execution_count": 16,
   "id": "cbea685d",
   "metadata": {},
   "outputs": [],
   "source": [
    "def makes_twenty(x1,x2):\n",
    "    if (x1 == 20) or (x2 == 20):\n",
    "        return True\n",
    "    elif ((x1+x2) == 20):\n",
    "        return True\n",
    "    else:\n",
    "        return False\n",
    "\n",
    "# ---- or ------\n",
    "# return (n1+n2)==20 or n1==20 or n2==20"
   ]
  },
  {
   "cell_type": "code",
   "execution_count": 17,
   "id": "23fb57ef",
   "metadata": {},
   "outputs": [
    {
     "data": {
      "text/plain": [
       "True"
      ]
     },
     "execution_count": 17,
     "metadata": {},
     "output_type": "execute_result"
    }
   ],
   "source": [
    "makes_twenty(20,10)"
   ]
  },
  {
   "cell_type": "code",
   "execution_count": 18,
   "id": "d6f70a5a",
   "metadata": {},
   "outputs": [
    {
     "data": {
      "text/plain": [
       "True"
      ]
     },
     "execution_count": 18,
     "metadata": {},
     "output_type": "execute_result"
    }
   ],
   "source": [
    "makes_twenty(12,8)"
   ]
  },
  {
   "cell_type": "code",
   "execution_count": 19,
   "id": "5727b31d",
   "metadata": {},
   "outputs": [
    {
     "data": {
      "text/plain": [
       "False"
      ]
     },
     "execution_count": 19,
     "metadata": {},
     "output_type": "execute_result"
    }
   ],
   "source": [
    "makes_twenty(2,3)"
   ]
  },
  {
   "cell_type": "markdown",
   "id": "d15629a1",
   "metadata": {},
   "source": [
    "## LEVEL 1 PROBLEMS\n",
    "\n",
    "OLD MACDONALD: Write a function that capitalizes the first and fourth letters of a name\n",
    "    \n",
    "old_macdonald('macdonald') --> MacDonald\n",
    "\n",
    "Note: 'macdonald'.capitalize() returns 'Macdonald'"
   ]
  },
  {
   "cell_type": "code",
   "execution_count": 5,
   "id": "84dd0f1b",
   "metadata": {},
   "outputs": [],
   "source": [
    "def old_macdonald(str):\n",
    "    tmpstr = \"\"\n",
    "    for pos,c in enumerate(str):\n",
    "        if (pos == 0) or (pos == 3):\n",
    "            tmpstr += c.upper()\n",
    "        else:\n",
    "            tmpstr += c\n",
    "    return tmpstr\n",
    "            "
   ]
  },
  {
   "cell_type": "code",
   "execution_count": null,
   "id": "7dcec0a0",
   "metadata": {},
   "outputs": [],
   "source": [
    "def old_macdonald(name):\n",
    "    if len(name) > 3:\n",
    "        return name[:3].capitalize() + name[3:].capitalize()\n",
    "    else:\n",
    "        return \"Name is short\"    "
   ]
  },
  {
   "cell_type": "code",
   "execution_count": 6,
   "id": "20e1948a",
   "metadata": {},
   "outputs": [
    {
     "data": {
      "text/plain": [
       "'MacDonald'"
      ]
     },
     "execution_count": 6,
     "metadata": {},
     "output_type": "execute_result"
    }
   ],
   "source": [
    "old_macdonald('macdonald')"
   ]
  },
  {
   "cell_type": "markdown",
   "id": "64fcf61c",
   "metadata": {},
   "source": [
    "MASTER YODA: Given a sentence, return a sentence with the words reversed\n",
    "\n",
    "master_yoda('I am home') --> 'home am I'\n",
    "\n",
    "master_yoda('We are ready') --> 'ready are We'\n",
    "\n",
    "Note: The .join() method may be useful here. The .join() method allows you to join together strings in a list with some connector string. For example, some uses of the .join() method:\n",
    "\n",
    "\"--\".join(['a','b','c'])\n",
    "'a--b--c'\n",
    "\n",
    "This means if you had a list of words you wanted to turn back into a sentence, you could just join them with a single space string:\n",
    "\n",
    "\" \".join(['Hello','world'])\n",
    "\"Hello world\""
   ]
  },
  {
   "cell_type": "code",
   "execution_count": 17,
   "id": "48bfd133",
   "metadata": {},
   "outputs": [],
   "source": [
    "def master_yoda(st):\n",
    "    lst = st.split()\n",
    "    lst.reverse()\n",
    "    return \" \".join(lst)\n",
    "\n",
    "# ---- or -----\n",
    "# return \" \".join(st.split()[::-1])\n",
    "        "
   ]
  },
  {
   "cell_type": "code",
   "execution_count": 18,
   "id": "24e35422",
   "metadata": {},
   "outputs": [
    {
     "data": {
      "text/plain": [
       "'home am I'"
      ]
     },
     "execution_count": 18,
     "metadata": {},
     "output_type": "execute_result"
    }
   ],
   "source": [
    "master_yoda('I am home')"
   ]
  },
  {
   "cell_type": "code",
   "execution_count": 19,
   "id": "6baa7a82",
   "metadata": {},
   "outputs": [
    {
     "data": {
      "text/plain": [
       "'ready are We'"
      ]
     },
     "execution_count": 19,
     "metadata": {},
     "output_type": "execute_result"
    }
   ],
   "source": [
    "master_yoda('We are ready')"
   ]
  },
  {
   "cell_type": "markdown",
   "id": "00377349",
   "metadata": {},
   "source": [
    "ALMOST THERE: Given an integer n, return True if n is within 10 of either 100 or 200\n",
    "\n",
    "almost_there(90) --> True\n",
    "\n",
    "almost_there(104) --> True\n",
    "\n",
    "almost_there(150) --> False\n",
    "\n",
    "almost_there(209) --> True\n",
    "\n",
    "NOTE: abs(num) returns the absolute value of a number"
   ]
  },
  {
   "cell_type": "code",
   "execution_count": 20,
   "id": "0342a98c",
   "metadata": {},
   "outputs": [],
   "source": [
    "def almost_there(x1):\n",
    "    if (((x1>=(100-10)) and (x1<=(100+10))) or ((x1>=(200-10)) and (x1<=(200+10)))):\n",
    "        return True\n",
    "    else:\n",
    "        return False"
   ]
  },
  {
   "cell_type": "code",
   "execution_count": 21,
   "id": "c5a84673",
   "metadata": {},
   "outputs": [
    {
     "data": {
      "text/plain": [
       "True"
      ]
     },
     "execution_count": 21,
     "metadata": {},
     "output_type": "execute_result"
    }
   ],
   "source": [
    "almost_there(90)"
   ]
  },
  {
   "cell_type": "code",
   "execution_count": 22,
   "id": "614143cd",
   "metadata": {},
   "outputs": [
    {
     "data": {
      "text/plain": [
       "True"
      ]
     },
     "execution_count": 22,
     "metadata": {},
     "output_type": "execute_result"
    }
   ],
   "source": [
    "almost_there(104)"
   ]
  },
  {
   "cell_type": "code",
   "execution_count": 23,
   "id": "4336a18a",
   "metadata": {},
   "outputs": [
    {
     "data": {
      "text/plain": [
       "False"
      ]
     },
     "execution_count": 23,
     "metadata": {},
     "output_type": "execute_result"
    }
   ],
   "source": [
    "almost_there(150)"
   ]
  },
  {
   "cell_type": "code",
   "execution_count": 24,
   "id": "8263643a",
   "metadata": {},
   "outputs": [
    {
     "data": {
      "text/plain": [
       "True"
      ]
     },
     "execution_count": 24,
     "metadata": {},
     "output_type": "execute_result"
    }
   ],
   "source": [
    "almost_there(209)"
   ]
  },
  {
   "cell_type": "markdown",
   "id": "02366400",
   "metadata": {},
   "source": [
    "## LEVEL 2 PROBLEMS\n",
    "\n",
    "FIND 33:\n",
    "Given a list of ints, return True if the array contains a 3 next to a 3 somewhere.\n",
    "\n",
    "has_33([1, 3, 3]) → True\n",
    "\n",
    "has_33([1, 3, 1, 3]) → False\n",
    "\n",
    "has_33([3, 1, 3]) → False"
   ]
  },
  {
   "cell_type": "code",
   "execution_count": 6,
   "id": "b97ac6c3",
   "metadata": {},
   "outputs": [],
   "source": [
    "def has_33(lst):\n",
    "    occ = 0\n",
    "    for item in lst:\n",
    "        if (item == 3):\n",
    "            occ += 1\n",
    "            if (occ == 2):\n",
    "                return True           \n",
    "            continue\n",
    "            \n",
    "        occ = 0\n",
    "        \n",
    "    return False"
   ]
  },
  {
   "cell_type": "code",
   "execution_count": 9,
   "id": "c4832c84",
   "metadata": {},
   "outputs": [],
   "source": [
    "# Better solution\n",
    "\n",
    "def has_33(lst):\n",
    "# Since i and i+1 is checked, -1 is needed.    \n",
    "    for i in range(0,len(lst)-1):\n",
    "        if (lst[i] == 3 and lst[i+1] == 3):\n",
    "            return True\n",
    "    return False"
   ]
  },
  {
   "cell_type": "code",
   "execution_count": 10,
   "id": "bac4e03c",
   "metadata": {},
   "outputs": [
    {
     "data": {
      "text/plain": [
       "True"
      ]
     },
     "execution_count": 10,
     "metadata": {},
     "output_type": "execute_result"
    }
   ],
   "source": [
    "has_33([1, 3, 3])"
   ]
  },
  {
   "cell_type": "code",
   "execution_count": 11,
   "id": "8f36ef21",
   "metadata": {},
   "outputs": [
    {
     "data": {
      "text/plain": [
       "False"
      ]
     },
     "execution_count": 11,
     "metadata": {},
     "output_type": "execute_result"
    }
   ],
   "source": [
    "has_33([1, 3, 1, 3])"
   ]
  },
  {
   "cell_type": "code",
   "execution_count": 12,
   "id": "41d79793",
   "metadata": {},
   "outputs": [
    {
     "data": {
      "text/plain": [
       "False"
      ]
     },
     "execution_count": 12,
     "metadata": {},
     "output_type": "execute_result"
    }
   ],
   "source": [
    "has_33([3, 1, 3]) "
   ]
  },
  {
   "cell_type": "code",
   "execution_count": 13,
   "id": "9a2c2ca5",
   "metadata": {},
   "outputs": [
    {
     "data": {
      "text/plain": [
       "False"
      ]
     },
     "execution_count": 13,
     "metadata": {},
     "output_type": "execute_result"
    }
   ],
   "source": [
    "has_33([3,0,3,1,1,1])"
   ]
  },
  {
   "cell_type": "markdown",
   "id": "f1f783bb",
   "metadata": {},
   "source": [
    "PAPER DOLL: Given a string, return a string where for every character in the original there are three characters\n",
    "\n",
    "paper_doll('Hello') --> 'HHHeeellllllooo'\n",
    "\n",
    "paper_doll('Mississippi') --> 'MMMiiissssssiiippppppiii'"
   ]
  },
  {
   "cell_type": "code",
   "execution_count": 14,
   "id": "947da984",
   "metadata": {},
   "outputs": [],
   "source": [
    "def paper_doll(pstr):\n",
    "    my_str = \"\"\n",
    "    for c in pstr:\n",
    "        count = 0\n",
    "        while(count < 3):\n",
    "            count += 1\n",
    "            my_str += c\n",
    "    return my_str"
   ]
  },
  {
   "cell_type": "code",
   "execution_count": 15,
   "id": "bfb0d7fb",
   "metadata": {},
   "outputs": [],
   "source": [
    "# Better solution\n",
    "def papaer_doll(pstr):\n",
    "    mystr=''\n",
    "    for char in pstr:\n",
    "        mystr += char*3\n",
    "    return mystr"
   ]
  },
  {
   "cell_type": "code",
   "execution_count": 16,
   "id": "464a5526",
   "metadata": {},
   "outputs": [
    {
     "data": {
      "text/plain": [
       "'HHHeeellllllooo'"
      ]
     },
     "execution_count": 16,
     "metadata": {},
     "output_type": "execute_result"
    }
   ],
   "source": [
    "paper_doll('Hello')"
   ]
  },
  {
   "cell_type": "code",
   "execution_count": 17,
   "id": "644bf7c4",
   "metadata": {},
   "outputs": [
    {
     "data": {
      "text/plain": [
       "'MMMiiissssssiiissssssiiippppppiii'"
      ]
     },
     "execution_count": 17,
     "metadata": {},
     "output_type": "execute_result"
    }
   ],
   "source": [
    "paper_doll('Mississippi')"
   ]
  },
  {
   "cell_type": "markdown",
   "id": "23664cd1",
   "metadata": {},
   "source": [
    "BLACKJACK: Given three integers between 1 and 11, if their sum is less than or equal to 21, return their sum. If their sum exceeds 21 and there's an eleven, reduce the total sum by 10. Finally, if the sum (even after adjustment) exceeds 21, return 'BUST'\n",
    "\n",
    "blackjack(5,6,7) --> 18\n",
    "\n",
    "blackjack(9,9,9) --> 'BUST'\n",
    "\n",
    "blackjack(9,9,11) --> 19"
   ]
  },
  {
   "cell_type": "code",
   "execution_count": 36,
   "id": "98f63006",
   "metadata": {},
   "outputs": [],
   "source": [
    "def blackjack(x1,x2,x3):\n",
    "    \n",
    "    sum = x1 + x2 + x3\n",
    "    \n",
    "    # Better condition\n",
    "    # 11 in (x1,x2,x3)\n",
    "    if ((sum > 21 ) and ((x1 == 11) or (x2==11) or (x3 == 11))):\n",
    "        sum -= 10\n",
    "    \n",
    "    if (sum <= 21):\n",
    "        return sum\n",
    "    else:\n",
    "        return \"BUST\""
   ]
  },
  {
   "cell_type": "code",
   "execution_count": 37,
   "id": "a5eaf6d8",
   "metadata": {},
   "outputs": [
    {
     "data": {
      "text/plain": [
       "18"
      ]
     },
     "execution_count": 37,
     "metadata": {},
     "output_type": "execute_result"
    }
   ],
   "source": [
    "blackjack(5,6,7)"
   ]
  },
  {
   "cell_type": "code",
   "execution_count": 38,
   "id": "93de7224",
   "metadata": {},
   "outputs": [
    {
     "data": {
      "text/plain": [
       "'BUST'"
      ]
     },
     "execution_count": 38,
     "metadata": {},
     "output_type": "execute_result"
    }
   ],
   "source": [
    "blackjack(9,9,9)"
   ]
  },
  {
   "cell_type": "code",
   "execution_count": 39,
   "id": "e4302939",
   "metadata": {},
   "outputs": [
    {
     "data": {
      "text/plain": [
       "19"
      ]
     },
     "execution_count": 39,
     "metadata": {},
     "output_type": "execute_result"
    }
   ],
   "source": [
    "blackjack(9,9,11)"
   ]
  },
  {
   "cell_type": "markdown",
   "id": "071e645a",
   "metadata": {},
   "source": [
    "SUMMER OF '69: Return the sum of the numbers in the array, except ignore sections of numbers starting with a 6 and extending to the next 9 (every 6 will be followed by at least one 9). Return 0 for no numbers.\n",
    "\n",
    "summer_69([1, 3, 5]) --> 9\n",
    "\n",
    "summer_69([4, 5, 6, 7, 8, 9]) --> 9\n",
    "\n",
    "summer_69([2, 1, 6, 9, 11]) --> 14"
   ]
  },
  {
   "cell_type": "code",
   "execution_count": 18,
   "id": "139df426",
   "metadata": {},
   "outputs": [],
   "source": [
    "def summer_69(lst):\n",
    "    sum = 0\n",
    "    flag = False\n",
    "    \n",
    "    for num in lst:        \n",
    "        if (num != 9) and (flag == True):\n",
    "            continue        \n",
    "        elif (num == 6):\n",
    "            flag = True\n",
    "        elif (num == 9):\n",
    "            flag = False\n",
    "        else:\n",
    "            sum += num\n",
    "    return sum\n"
   ]
  },
  {
   "cell_type": "code",
   "execution_count": 19,
   "id": "a15b9d5b",
   "metadata": {},
   "outputs": [],
   "source": [
    "# Other solution\n",
    "def summer_69(arr):\n",
    "    total = 0\n",
    "    add = True\n",
    "    for num in arr:\n",
    "        while add:\n",
    "            if num != 6:\n",
    "                total += num \n",
    "                break\n",
    "            else:\n",
    "                add = False\n",
    "        while not add:\n",
    "            if num != 9:\n",
    "                break\n",
    "            else:\n",
    "                add = True\n",
    "                break\n",
    "    return total"
   ]
  },
  {
   "cell_type": "code",
   "execution_count": 20,
   "id": "36b82abf",
   "metadata": {},
   "outputs": [
    {
     "data": {
      "text/plain": [
       "9"
      ]
     },
     "execution_count": 20,
     "metadata": {},
     "output_type": "execute_result"
    }
   ],
   "source": [
    "summer_69([1, 3, 5])"
   ]
  },
  {
   "cell_type": "code",
   "execution_count": 21,
   "id": "f6cd8fb8",
   "metadata": {},
   "outputs": [
    {
     "data": {
      "text/plain": [
       "9"
      ]
     },
     "execution_count": 21,
     "metadata": {},
     "output_type": "execute_result"
    }
   ],
   "source": [
    "summer_69([4, 5, 6, 7, 8, 9])"
   ]
  },
  {
   "cell_type": "code",
   "execution_count": 22,
   "id": "73cbd440",
   "metadata": {},
   "outputs": [
    {
     "data": {
      "text/plain": [
       "14"
      ]
     },
     "execution_count": 22,
     "metadata": {},
     "output_type": "execute_result"
    }
   ],
   "source": [
    "summer_69([2, 1, 6, 9, 11])"
   ]
  },
  {
   "cell_type": "code",
   "execution_count": 23,
   "id": "f32dad98",
   "metadata": {},
   "outputs": [
    {
     "data": {
      "text/plain": [
       "10"
      ]
     },
     "execution_count": 23,
     "metadata": {},
     "output_type": "execute_result"
    }
   ],
   "source": [
    "summer_69([2, 1, 6, 9, 1,2,3,6,4,5,9,1])"
   ]
  },
  {
   "cell_type": "markdown",
   "id": "d770e7c0",
   "metadata": {},
   "source": [
    "# CHALLENGING PROBLEMS"
   ]
  },
  {
   "cell_type": "markdown",
   "id": "2678097e",
   "metadata": {},
   "source": [
    "SPY GAME: Write a function that takes in a list of integers and returns True if it contains 007 in order\n",
    " \n",
    "spy_game([1,2,4,0,0,7,5]) --> True\n",
    " \n",
    "spy_game([1,0,2,4,0,5,7]) --> True\n",
    "\n",
    "spy_game([1,7,2,0,4,5,0]) --> False"
   ]
  },
  {
   "cell_type": "code",
   "execution_count": 24,
   "id": "83ccff55",
   "metadata": {},
   "outputs": [],
   "source": [
    "def spy_game(lst):\n",
    "    flag1 = False\n",
    "    flag2 = False\n",
    "    \n",
    "    for num in lst:\n",
    "        if (num == 0) and (flag1 == False):\n",
    "            flag1 = True\n",
    "        elif (num == 0) and (flag1 == True):\n",
    "            flag2 = True\n",
    "        elif (num == 7) and (flag1 == True) and (flag2 == True):\n",
    "            return True\n",
    "        else:\n",
    "            pass\n",
    "    return False"
   ]
  },
  {
   "cell_type": "code",
   "execution_count": 50,
   "id": "7ef444ae",
   "metadata": {},
   "outputs": [],
   "source": [
    "# Other Solution\n",
    "def spy_game(nums):\n",
    "    pattern = [0,0,7,'x']\n",
    "    \n",
    "    for num in nums:\n",
    "        if (num == pattern[0]):\n",
    "            pattern.pop(0)\n",
    "    return len(pattern) == 1"
   ]
  },
  {
   "cell_type": "code",
   "execution_count": 51,
   "id": "83009eea",
   "metadata": {},
   "outputs": [
    {
     "data": {
      "text/plain": [
       "True"
      ]
     },
     "execution_count": 51,
     "metadata": {},
     "output_type": "execute_result"
    }
   ],
   "source": [
    "spy_game([1,2,4,0,0,7,5])"
   ]
  },
  {
   "cell_type": "code",
   "execution_count": 29,
   "id": "5d6280fe",
   "metadata": {},
   "outputs": [
    {
     "data": {
      "text/plain": [
       "True"
      ]
     },
     "execution_count": 29,
     "metadata": {},
     "output_type": "execute_result"
    }
   ],
   "source": [
    "spy_game([1,0,2,4,0,5,7])"
   ]
  },
  {
   "cell_type": "code",
   "execution_count": 30,
   "id": "35b7bfd7",
   "metadata": {},
   "outputs": [
    {
     "data": {
      "text/plain": [
       "False"
      ]
     },
     "execution_count": 30,
     "metadata": {},
     "output_type": "execute_result"
    }
   ],
   "source": [
    "spy_game([1,7,2,0,4,5,0])"
   ]
  },
  {
   "cell_type": "markdown",
   "id": "608cd71b",
   "metadata": {},
   "source": [
    "COUNT PRIMES: Write a function that returns the number of prime numbers that exist up to and including a given number\n",
    "\n",
    "count_primes(100) --> 25"
   ]
  },
  {
   "cell_type": "markdown",
   "id": "aff55295",
   "metadata": {},
   "source": [
    "## Note- There is for else loop in python. The else block of the code is executed only if break statement was not executed in for block.\n",
    "#### Trick to remember- break statement breaks from both for and else block."
   ]
  },
  {
   "cell_type": "code",
   "execution_count": 75,
   "id": "21f16122",
   "metadata": {},
   "outputs": [
    {
     "name": "stdout",
     "output_type": "stream",
     "text": [
      "0\n",
      "1\n",
      "2\n"
     ]
    }
   ],
   "source": [
    "for i in range(5):\n",
    "    print(f'{i}')\n",
    "    if (i == 2):\n",
    "        break\n",
    "else:\n",
    "    print('else part')"
   ]
  },
  {
   "cell_type": "code",
   "execution_count": 76,
   "id": "86d2082d",
   "metadata": {},
   "outputs": [
    {
     "name": "stdout",
     "output_type": "stream",
     "text": [
      "0\n",
      "1\n",
      "2\n",
      "3\n",
      "4\n",
      "else part\n"
     ]
    }
   ],
   "source": [
    "for i in range(5):\n",
    "    print(f'{i}')\n",
    "    if (i == 2):\n",
    "        pass\n",
    "else:\n",
    "    print('else part')"
   ]
  },
  {
   "cell_type": "code",
   "execution_count": 78,
   "id": "58ec5b39",
   "metadata": {},
   "outputs": [],
   "source": [
    "def count_primes(num):\n",
    "    primes = [2]\n",
    "    x = 3\n",
    "    if num<2:\n",
    "        return 0\n",
    "    while x <= num:\n",
    "        for i in primes:\n",
    "            if x%i == 0:\n",
    "                x += 2\n",
    "                break\n",
    "        else:\n",
    "            primes.append(x)\n",
    "            x += 2\n",
    "    print(primes)\n",
    "    return len(primes)"
   ]
  },
  {
   "cell_type": "code",
   "execution_count": 79,
   "id": "9aef4afb",
   "metadata": {},
   "outputs": [
    {
     "name": "stdout",
     "output_type": "stream",
     "text": [
      "[2, 3, 5, 7, 11, 13, 17, 19, 23, 29, 31, 37, 41, 43, 47, 53, 59, 61, 67, 71, 73, 79, 83, 89, 97]\n"
     ]
    },
    {
     "data": {
      "text/plain": [
       "25"
      ]
     },
     "execution_count": 79,
     "metadata": {},
     "output_type": "execute_result"
    }
   ],
   "source": [
    "count_primes(100)"
   ]
  },
  {
   "cell_type": "markdown",
   "id": "72bfbe54",
   "metadata": {},
   "source": [
    "Just for fun:\n",
    "PRINT BIG: Write a function that takes in a single letter, and returns a 5x5 representation of that letter\n",
    "\n",
    "print_big('a')\n",
    "\n",
    "out:    *  \n",
    "\n",
    "      * *\n",
    "     \n",
    "     *****\n",
    "     \n",
    "     *   *\n",
    "     \n",
    "     *   *\n",
    "\n",
    "HINT: Consider making a dictionary of possible patterns, and mapping the alphabet to specific 5-line combinations of patterns.\n",
    "For purposes of this exercise, it's ok if your dictionary stops at \"E\"."
   ]
  },
  {
   "cell_type": "code",
   "execution_count": 83,
   "id": "6f03d7cb",
   "metadata": {},
   "outputs": [],
   "source": [
    "di = {'A':[[' ',' ','*',' ',' '],[' ','*',' ','*',' '],['*','*','*','*','*'],['*',' ',' ',' ','*'],['*',' ',' ',' ','*']],\n",
    "     'B':[['*','*','*','*','*'],['*',' ',' ',' ','*'],['*','*','*','*','*'],['*',' ',' ',' ','*'],['*','*','*','*','*']],\n",
    "     'C':[['*','*','*','*','*'],['*',' ',' ',' ',' '],['*',' ',' ',' ',' '],['*',' ',' ',' ',' '],['*','*','*','*','*']],\n",
    "     'D':[['*','*','*','*','*'],['*',' ',' ',' ','*'],['*',' ',' ',' ','*'],['*',' ',' ',' ','*'],['*','*','*','*','*']],         \n",
    "    }\n",
    "\n",
    "def print_big(ch):\n",
    "    for row in di[ch]:\n",
    "        for item in row:\n",
    "            print(item,end='')\n",
    "        print('')"
   ]
  },
  {
   "cell_type": "code",
   "execution_count": 84,
   "id": "f5002d2c",
   "metadata": {},
   "outputs": [
    {
     "name": "stdout",
     "output_type": "stream",
     "text": [
      "  *  \n",
      " * * \n",
      "*****\n",
      "*   *\n",
      "*   *\n"
     ]
    }
   ],
   "source": [
    "print_big('A')"
   ]
  },
  {
   "cell_type": "code",
   "execution_count": 86,
   "id": "f59b514f",
   "metadata": {},
   "outputs": [
    {
     "name": "stdout",
     "output_type": "stream",
     "text": [
      "*****\n",
      "*   *\n",
      "*****\n",
      "*   *\n",
      "*****\n"
     ]
    }
   ],
   "source": [
    "print_big('B')"
   ]
  },
  {
   "cell_type": "code",
   "execution_count": 87,
   "id": "255fd727",
   "metadata": {},
   "outputs": [
    {
     "name": "stdout",
     "output_type": "stream",
     "text": [
      "*****\n",
      "*    \n",
      "*    \n",
      "*    \n",
      "*****\n"
     ]
    }
   ],
   "source": [
    "print_big('C')"
   ]
  },
  {
   "cell_type": "code",
   "execution_count": 88,
   "id": "d48a81aa",
   "metadata": {},
   "outputs": [
    {
     "name": "stdout",
     "output_type": "stream",
     "text": [
      "*****\n",
      "*   *\n",
      "*   *\n",
      "*   *\n",
      "*****\n"
     ]
    }
   ],
   "source": [
    "print_big('D')"
   ]
  },
  {
   "cell_type": "markdown",
   "id": "b0024051",
   "metadata": {},
   "source": [
    "# Functions and Methods Homework"
   ]
  },
  {
   "cell_type": "markdown",
   "id": "2ef91680",
   "metadata": {},
   "source": [
    "Write a function that computes the volume of a sphere given its radius.\n",
    "\n",
    "The volume of a sphere is given as\n",
    " \n"
   ]
  },
  {
   "cell_type": "code",
   "execution_count": 1,
   "id": "20120338",
   "metadata": {},
   "outputs": [],
   "source": [
    "def vol (rad):\n",
    "    return (4/3)*(22/7)*(rad**3)"
   ]
  },
  {
   "cell_type": "code",
   "execution_count": 2,
   "id": "e8409321",
   "metadata": {},
   "outputs": [
    {
     "data": {
      "text/plain": [
       "33.52380952380952"
      ]
     },
     "execution_count": 2,
     "metadata": {},
     "output_type": "execute_result"
    }
   ],
   "source": [
    "vol(2)"
   ]
  },
  {
   "cell_type": "code",
   "execution_count": null,
   "id": "061beddf",
   "metadata": {},
   "outputs": [],
   "source": []
  }
 ],
 "metadata": {
  "kernelspec": {
   "display_name": "Python 3 (ipykernel)",
   "language": "python",
   "name": "python3"
  },
  "language_info": {
   "codemirror_mode": {
    "name": "ipython",
    "version": 3
   },
   "file_extension": ".py",
   "mimetype": "text/x-python",
   "name": "python",
   "nbconvert_exporter": "python",
   "pygments_lexer": "ipython3",
   "version": "3.9.12"
  }
 },
 "nbformat": 4,
 "nbformat_minor": 5
}
