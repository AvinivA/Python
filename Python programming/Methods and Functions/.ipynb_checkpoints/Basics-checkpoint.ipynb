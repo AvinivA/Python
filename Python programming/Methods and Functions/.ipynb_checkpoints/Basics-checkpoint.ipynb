{
 "cells": [
  {
   "cell_type": "markdown",
   "id": "33069f20",
   "metadata": {},
   "source": [
    "# Functions"
   ]
  },
  {
   "cell_type": "markdown",
   "id": "5f2a7192",
   "metadata": {},
   "source": [
    "For better redability, the function names are snake cased- names in lower case and underscores are used to seperate words."
   ]
  },
  {
   "cell_type": "code",
   "execution_count": 1,
   "id": "020e6d88",
   "metadata": {},
   "outputs": [],
   "source": [
    "def print_name(name='defualt'):\n",
    "    print(f'Hello {name}')"
   ]
  },
  {
   "cell_type": "code",
   "execution_count": 5,
   "id": "ba7bc97d",
   "metadata": {},
   "outputs": [
    {
     "name": "stdout",
     "output_type": "stream",
     "text": [
      "Hello Avinash\n",
      "Hello defualt\n"
     ]
    }
   ],
   "source": [
    "print_name(\"Avinash\")\n",
    "print_name()"
   ]
  },
  {
   "cell_type": "code",
   "execution_count": 3,
   "id": "6bb53e2b",
   "metadata": {},
   "outputs": [],
   "source": [
    "def return_sum(num1,num2):\n",
    "    return num1+num2"
   ]
  },
  {
   "cell_type": "code",
   "execution_count": 4,
   "id": "6ac5dad2",
   "metadata": {},
   "outputs": [
    {
     "data": {
      "text/plain": [
       "9"
      ]
     },
     "execution_count": 4,
     "metadata": {},
     "output_type": "execute_result"
    }
   ],
   "source": [
    "ret = return_sum(5,4)\n",
    "ret"
   ]
  },
  {
   "cell_type": "code",
   "execution_count": 22,
   "id": "4dc5c370",
   "metadata": {},
   "outputs": [],
   "source": [
    "work_hours = [(\"Abby\",400),('Billy',4000),('Cassie',800)]"
   ]
  },
  {
   "cell_type": "code",
   "execution_count": 23,
   "id": "ef16fce4",
   "metadata": {},
   "outputs": [],
   "source": [
    "def employee_of_year(tup_list):\n",
    "    \n",
    "    ename=''\n",
    "    max_hours = 0\n",
    "    \n",
    "    for name,hours in tup_list:\n",
    "        if (hours > max_hours):\n",
    "            ename = name\n",
    "            max_hours=hours\n",
    "            \n",
    "    return (ename,max_hours)        "
   ]
  },
  {
   "cell_type": "code",
   "execution_count": 26,
   "id": "c17facc6",
   "metadata": {},
   "outputs": [
    {
     "data": {
      "text/plain": [
       "('Billy', 4000)"
      ]
     },
     "execution_count": 26,
     "metadata": {},
     "output_type": "execute_result"
    }
   ],
   "source": [
    "result = employee_of_year(work_hours)\n",
    "result"
   ]
  },
  {
   "cell_type": "code",
   "execution_count": 27,
   "id": "52fa8f8a",
   "metadata": {},
   "outputs": [
    {
     "name": "stdout",
     "output_type": "stream",
     "text": [
      "Billy:4000\n"
     ]
    }
   ],
   "source": [
    "name,hours = employee_of_year(work_hours)\n",
    "print(f'{name}:{hours}')"
   ]
  },
  {
   "cell_type": "markdown",
   "id": "7b77b31f",
   "metadata": {},
   "source": [
    "# Arguments and keyword arguments"
   ]
  },
  {
   "cell_type": "markdown",
   "id": "f87ced60",
   "metadata": {},
   "source": [
    "<div class=\"boxBorder\">  *args and **kwargs are used to take arbitary number of inputs paramters in the function.</div>\n",
    "\n",
    "\n",
    "*args: Passed arguments will form a tuple\n",
    "\n",
    "\n",
    "**kwargs: Passed keyword arguments will form dictonary with key:value pairs."
   ]
  },
  {
   "cell_type": "code",
   "execution_count": 28,
   "id": "2609b8a3",
   "metadata": {},
   "outputs": [],
   "source": [
    "def my_func(*args):\n",
    "    print(args)\n",
    "    print (sum(args))"
   ]
  },
  {
   "cell_type": "code",
   "execution_count": 29,
   "id": "16b059e4",
   "metadata": {},
   "outputs": [
    {
     "name": "stdout",
     "output_type": "stream",
     "text": [
      "(10, 20, 30)\n",
      "60\n"
     ]
    }
   ],
   "source": [
    "my_func(10,20,30)"
   ]
  },
  {
   "cell_type": "code",
   "execution_count": 32,
   "id": "c76b1b4d",
   "metadata": {},
   "outputs": [],
   "source": [
    "def my_func2(**kwargs):\n",
    "    print(kwargs)\n",
    "    print(\"Sport is: {}\".format(kwargs['Sport']))"
   ]
  },
  {
   "cell_type": "code",
   "execution_count": 35,
   "id": "7c9a6c77",
   "metadata": {},
   "outputs": [
    {
     "name": "stdout",
     "output_type": "stream",
     "text": [
      "{'Food': 'Dosa', 'Sport': 'Cricket'}\n",
      "Sport is: Cricket\n"
     ]
    }
   ],
   "source": [
    "# The first parameter should be just value and not a string.\n",
    "my_func2(Food=\"Dosa\",Sport=\"Cricket\")"
   ]
  },
  {
   "cell_type": "code",
   "execution_count": 36,
   "id": "02b0efbc",
   "metadata": {},
   "outputs": [],
   "source": [
    "def my_func3(*args,**kwargs):\n",
    "    print(args)\n",
    "    print(kwargs)\n",
    "    "
   ]
  },
  {
   "cell_type": "code",
   "execution_count": 37,
   "id": "144810f9",
   "metadata": {},
   "outputs": [
    {
     "name": "stdout",
     "output_type": "stream",
     "text": [
      "('Hello', 'There')\n",
      "{'fruit': 'Apple', 'City': 'BLR'}\n"
     ]
    }
   ],
   "source": [
    "my_func3(\"Hello\",\"There\",fruit=\"Apple\",City=\"BLR\")"
   ]
  },
  {
   "cell_type": "code",
   "execution_count": 40,
   "id": "903a0210",
   "metadata": {},
   "outputs": [
    {
     "data": {
      "text/plain": [
       "'a'"
      ]
     },
     "execution_count": 40,
     "metadata": {},
     "output_type": "execute_result"
    }
   ],
   "source": [
    "st = ''\n",
    "st+'a'"
   ]
  },
  {
   "cell_type": "code",
   "execution_count": null,
   "id": "705ea202",
   "metadata": {},
   "outputs": [],
   "source": []
  }
 ],
 "metadata": {
  "kernelspec": {
   "display_name": "Python 3 (ipykernel)",
   "language": "python",
   "name": "python3"
  },
  "language_info": {
   "codemirror_mode": {
    "name": "ipython",
    "version": 3
   },
   "file_extension": ".py",
   "mimetype": "text/x-python",
   "name": "python",
   "nbconvert_exporter": "python",
   "pygments_lexer": "ipython3",
   "version": "3.9.12"
  }
 },
 "nbformat": 4,
 "nbformat_minor": 5
}
