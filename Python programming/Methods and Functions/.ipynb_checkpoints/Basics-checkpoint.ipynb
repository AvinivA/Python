{
 "cells": [
  {
   "cell_type": "markdown",
   "id": "33069f20",
   "metadata": {},
   "source": [
    "# Functions"
   ]
  },
  {
   "cell_type": "markdown",
   "id": "5f2a7192",
   "metadata": {},
   "source": [
    "For better redability, the function names are snake cased- names in lower case and underscores are used to seperate words."
   ]
  },
  {
   "cell_type": "code",
   "execution_count": 1,
   "id": "020e6d88",
   "metadata": {},
   "outputs": [],
   "source": [
    "def print_name(name='defualt'):\n",
    "    print(f'Hello {name}')"
   ]
  },
  {
   "cell_type": "code",
   "execution_count": 5,
   "id": "ba7bc97d",
   "metadata": {},
   "outputs": [
    {
     "name": "stdout",
     "output_type": "stream",
     "text": [
      "Hello Avinash\n",
      "Hello defualt\n"
     ]
    }
   ],
   "source": [
    "print_name(\"Avinash\")\n",
    "print_name()"
   ]
  },
  {
   "cell_type": "code",
   "execution_count": 3,
   "id": "6bb53e2b",
   "metadata": {},
   "outputs": [],
   "source": [
    "def return_sum(num1,num2):\n",
    "    return num1+num2"
   ]
  },
  {
   "cell_type": "code",
   "execution_count": 4,
   "id": "6ac5dad2",
   "metadata": {},
   "outputs": [
    {
     "data": {
      "text/plain": [
       "9"
      ]
     },
     "execution_count": 4,
     "metadata": {},
     "output_type": "execute_result"
    }
   ],
   "source": [
    "ret = return_sum(5,4)\n",
    "ret"
   ]
  },
  {
   "cell_type": "code",
   "execution_count": 22,
   "id": "4dc5c370",
   "metadata": {},
   "outputs": [],
   "source": [
    "work_hours = [(\"Abby\",400),('Billy',4000),('Cassie',800)]"
   ]
  },
  {
   "cell_type": "code",
   "execution_count": 23,
   "id": "ef16fce4",
   "metadata": {},
   "outputs": [],
   "source": [
    "def employee_of_year(tup_list):\n",
    "    \n",
    "    ename=''\n",
    "    max_hours = 0\n",
    "    \n",
    "    for name,hours in tup_list:\n",
    "        if (hours > max_hours):\n",
    "            ename = name\n",
    "            max_hours=hours\n",
    "            \n",
    "    return (ename,max_hours)        "
   ]
  },
  {
   "cell_type": "code",
   "execution_count": 26,
   "id": "c17facc6",
   "metadata": {},
   "outputs": [
    {
     "data": {
      "text/plain": [
       "('Billy', 4000)"
      ]
     },
     "execution_count": 26,
     "metadata": {},
     "output_type": "execute_result"
    }
   ],
   "source": [
    "result = employee_of_year(work_hours)\n",
    "result"
   ]
  },
  {
   "cell_type": "code",
   "execution_count": 27,
   "id": "52fa8f8a",
   "metadata": {},
   "outputs": [
    {
     "name": "stdout",
     "output_type": "stream",
     "text": [
      "Billy:4000\n"
     ]
    }
   ],
   "source": [
    "name,hours = employee_of_year(work_hours)\n",
    "print(f'{name}:{hours}')"
   ]
  },
  {
   "cell_type": "markdown",
   "id": "3cbb2037",
   "metadata": {},
   "source": [
    "# Arguments and keyword arguments"
   ]
  },
  {
   "cell_type": "markdown",
   "id": "a8da0116",
   "metadata": {},
   "source": [
    "<div class=\"boxBorder\">  *args and **kwargs are used to take arbitary number of inputs paramters in the function.</div>\n",
    "\n",
    "\n",
    "*args: Passed arguments will form a tuple\n",
    "\n",
    "\n",
    "**kwargs: Passed keyword arguments will form dictonary with key:value pairs."
   ]
  },
  {
   "cell_type": "code",
   "execution_count": 28,
   "id": "edc2b2e1",
   "metadata": {},
   "outputs": [],
   "source": [
    "def my_func(*args):\n",
    "    print(args)\n",
    "    print (sum(args))"
   ]
  },
  {
   "cell_type": "code",
   "execution_count": 29,
   "id": "5eb7922f",
   "metadata": {},
   "outputs": [
    {
     "name": "stdout",
     "output_type": "stream",
     "text": [
      "(10, 20, 30)\n",
      "60\n"
     ]
    }
   ],
   "source": [
    "my_func(10,20,30)"
   ]
  },
  {
   "cell_type": "code",
   "execution_count": 32,
   "id": "e3d57b5f",
   "metadata": {},
   "outputs": [],
   "source": [
    "def my_func2(**kwargs):\n",
    "    print(kwargs)\n",
    "    print(\"Sport is: {}\".format(kwargs['Sport']))"
   ]
  },
  {
   "cell_type": "code",
   "execution_count": 35,
   "id": "a0bde1ed",
   "metadata": {},
   "outputs": [
    {
     "name": "stdout",
     "output_type": "stream",
     "text": [
      "{'Food': 'Dosa', 'Sport': 'Cricket'}\n",
      "Sport is: Cricket\n"
     ]
    }
   ],
   "source": [
    "# The first parameter should be just value and not a string.\n",
    "my_func2(Food=\"Dosa\",Sport=\"Cricket\")"
   ]
  },
  {
   "cell_type": "code",
   "execution_count": 36,
   "id": "ef633bba",
   "metadata": {},
   "outputs": [],
   "source": [
    "def my_func3(*args,**kwargs):\n",
    "    print(args)\n",
    "    print(kwargs)\n",
    "    "
   ]
  },
  {
   "cell_type": "code",
   "execution_count": 37,
   "id": "46877669",
   "metadata": {},
   "outputs": [
    {
     "name": "stdout",
     "output_type": "stream",
     "text": [
      "('Hello', 'There')\n",
      "{'fruit': 'Apple', 'City': 'BLR'}\n"
     ]
    }
   ],
   "source": [
    "my_func3(\"Hello\",\"There\",fruit=\"Apple\",City=\"BLR\")"
   ]
  },
  {
   "cell_type": "code",
   "execution_count": 40,
   "id": "47995f9a",
   "metadata": {},
   "outputs": [
    {
     "data": {
      "text/plain": [
       "'a'"
      ]
     },
     "execution_count": 40,
     "metadata": {},
     "output_type": "execute_result"
    }
   ],
   "source": [
    "st = ''\n",
    "st+'a'"
   ]
  },
  {
   "cell_type": "markdown",
   "id": "80266103",
   "metadata": {},
   "source": [
    "# Lambda function, Map and Filters"
   ]
  },
  {
   "cell_type": "markdown",
   "id": "d62a99a9",
   "metadata": {},
   "source": [
    "Lambda functions are anonymous functions without any name. They can take any number of arguments, but have only one expression.\n",
    "Lambda functions are needed when function objects are required.\n",
    "Usually lambda functions are used in map and filter which takes function object as paramter."
   ]
  },
  {
   "cell_type": "code",
   "execution_count": 45,
   "id": "147fbd3e",
   "metadata": {},
   "outputs": [],
   "source": [
    "def square(x):\n",
    "    print (f'{x**2}')"
   ]
  },
  {
   "cell_type": "code",
   "execution_count": 47,
   "id": "4b6d401d",
   "metadata": {},
   "outputs": [],
   "source": [
    "# This is just a function object. \n",
    "lsquare = lambda x:x**2"
   ]
  },
  {
   "cell_type": "code",
   "execution_count": 48,
   "id": "a0b474ab",
   "metadata": {},
   "outputs": [
    {
     "data": {
      "text/plain": [
       "4"
      ]
     },
     "execution_count": 48,
     "metadata": {},
     "output_type": "execute_result"
    }
   ],
   "source": [
    "# To call the function () are needed.\n",
    "lsquare(2)"
   ]
  },
  {
   "cell_type": "code",
   "execution_count": null,
   "id": "aa6fac7f",
   "metadata": {},
   "outputs": [],
   "source": []
  }
 ],
 "metadata": {
  "kernelspec": {
   "display_name": "Python 3 (ipykernel)",
   "language": "python",
   "name": "python3"
  },
  "language_info": {
   "codemirror_mode": {
    "name": "ipython",
    "version": 3
   },
   "file_extension": ".py",
   "mimetype": "text/x-python",
   "name": "python",
   "nbconvert_exporter": "python",
   "pygments_lexer": "ipython3",
   "version": "3.9.12"
  }
 },
 "nbformat": 4,
 "nbformat_minor": 5
}
